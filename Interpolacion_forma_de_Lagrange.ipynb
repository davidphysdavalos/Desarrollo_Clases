{
 "cells": [
  {
   "cell_type": "markdown",
   "metadata": {},
   "source": [
    "# Interpolación polinomial en la forma de Lagrange\n",
    "\n",
    "Dado un conjunto de $k+1$ puntos\n",
    "\n",
    "$$(x_0,y_0),\\ldots,(x_j,y_j),\\ldots,(x_k,y_k)$$\n",
    "\n",
    "donde las $x_j$ no son iguales, la interpolación polinomial en la forma de Lagrange es una combinación lineal\n",
    "\n",
    "$$L(x):= \\sum_{j=0}^{k}y_jl_j(x)$$\n",
    "\n",
    "de las bases polinomiales de Lagrange\n",
    "\n",
    "$$l_j(x) = \\prod_{0 \\le m \\le k \\atop m \\ne j} \\frac{x-x_m}{x_j-x_m}.$$\n",
    "\n",
    "Para cada $i \\ne j$, $l_j(x)$ incluye el término $(x-x_i)$ en el numerador, entonces el producto entero será cero en $x=x_i$:\n",
    "\n",
    "$$l_{j\\ne i}(x_i) = \\prod_{m \\ne j} \\frac{x_i-x_m}{x_j-x_m} = \\frac{x_i-x_0}{x_j-x_0} \\ldots \\frac{x_i-x_i}{x_j-x_i} \\ldots \\frac{x_i-x_k}{x_j-x_k} = 0.$$\n",
    "\n",
    "Por otro lado\n",
    "\n",
    "$$l_i(x_i) = \\prod_{m \\ne i} \\frac{x_i-x_m}{x_i-x_m} = 1,$$\n",
    "\n",
    "en otras palabras, todas las bases polinomiales son cero en $x=x_i$, excepto $l_i(x_i)$, para la cual se tiene $l_i(x_i)=1$. Lo que sigue es que $y_il_i(x_i) = y_i$, entonces para cada punto $x_i$, $L(x_i) = y_i+0+0+\\ldots+0 = y_i$, demostrando que $L$ interpola a la función de manera exacta."
   ]
  },
  {
   "cell_type": "code",
   "execution_count": null,
   "metadata": {
    "collapsed": true
   },
   "outputs": [],
   "source": [
    "listx = [1,5,-2];"
   ]
  },
  {
   "cell_type": "code",
   "execution_count": null,
   "metadata": {
    "collapsed": true
   },
   "outputs": [],
   "source": [
    "listy = [2,7,8];"
   ]
  },
  {
   "cell_type": "code",
   "execution_count": null,
   "metadata": {
    "collapsed": true
   },
   "outputs": [],
   "source": [
    "using PyPlot"
   ]
  },
  {
   "cell_type": "code",
   "execution_count": null,
   "metadata": {
    "collapsed": true
   },
   "outputs": [],
   "source": [
    "using SymPy"
   ]
  },
  {
   "cell_type": "code",
   "execution_count": null,
   "metadata": {
    "collapsed": true
   },
   "outputs": [],
   "source": [
    "function bases(index,list)\n",
    "    l=1\n",
    "    for i = 1:length(list)\n",
    "         if i != index\n",
    "            l = l*(Sym(\"x\")-list[i])/(list[index]-list[i])\n",
    "         end\n",
    "    end\n",
    "    return l\n",
    "end"
   ]
  },
  {
   "cell_type": "code",
   "execution_count": null,
   "metadata": {
    "collapsed": true
   },
   "outputs": [],
   "source": [
    "function Lagrange(list1,list2)\n",
    "    L=0\n",
    "    for i = 1:length(list2)\n",
    "       L = L + bases(i,list1)*list2[i]\n",
    "    end\n",
    "    return expand(L)\n",
    "end"
   ]
  },
  {
   "cell_type": "code",
   "execution_count": null,
   "metadata": {
    "collapsed": true
   },
   "outputs": [],
   "source": [
    "Lagrange(listx,listy)"
   ]
  },
  {
   "cell_type": "code",
   "execution_count": null,
   "metadata": {
    "collapsed": true
   },
   "outputs": [],
   "source": [
    "x=linspace(-3,6,1000);"
   ]
  },
  {
   "cell_type": "code",
   "execution_count": null,
   "metadata": {
    "collapsed": true
   },
   "outputs": [],
   "source": [
    "y=Lagrange(listx,listy).(x);"
   ]
  },
  {
   "cell_type": "code",
   "execution_count": null,
   "metadata": {
    "collapsed": true
   },
   "outputs": [],
   "source": [
    "scatter(listx,listy,color=\"red\")\n",
    "plot(x,y)\n",
    "show()"
   ]
  }
 ],
 "metadata": {
  "kernelspec": {
   "display_name": "Julia 0.6.0",
   "language": "julia",
   "name": "julia-0.6"
  },
  "language_info": {
   "file_extension": ".jl",
   "mimetype": "application/julia",
   "name": "julia",
   "version": "0.6.0"
  },
  "latex_envs": {
   "bibliofile": "biblio.bib",
   "cite_by": "apalike",
   "current_citInitial": 1,
   "eqLabelWithNumbers": true,
   "eqNumInitial": 0
  }
 },
 "nbformat": 4,
 "nbformat_minor": 2
}
