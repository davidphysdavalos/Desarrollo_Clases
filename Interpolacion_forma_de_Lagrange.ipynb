{
 "cells": [
  {
   "cell_type": "markdown",
   "metadata": {},
   "source": [
    "# Interpolación polinomial en la forma de Lagrange\n",
    "\n",
    "Dado un conjunto de $k+1$ puntos\n",
    "\n",
    "$$(x_0,y_0),\\ldots,(x_j,y_j),\\ldots,(x_k,y_k)$$\n",
    "\n",
    "donde las $x_j$ no son iguales, la interpolación polinomial en la forma de Lagrange es una combinación lineal\n",
    "\n",
    "$$L(x):= \\sum_{j=0}^{k}y_jl_j(x)$$\n",
    "\n",
    "de las bases polinomiales de Lagrange\n",
    "\n",
    "$$l_j(x) = \\prod_{0 \\le m \\le k \\atop m \\ne j} \\frac{x-x_m}{x_j-x_m}.$$\n",
    "\n",
    "Para cada $i \\ne j$, $l_j(x)$ incluye el término $(x-x_i)$ en el numerador, entonces el producto entero será cero en $x=x_i$:\n",
    "\n",
    "$$l_{j\\ne i}(x_i) = \\prod_{m \\ne j} \\frac{x_i-x_m}{x_j-x_m} = \\frac{x_i-x_0}{x_j-x_0} \\ldots \\frac{x_i-x_i}{x_j-x_i} \\ldots \\frac{x_i-x_k}{x_j-x_k} = 0.$$\n",
    "\n",
    "Por otro lado\n",
    "\n",
    "$$l_i(x_i) = \\prod_{m \\ne i} \\frac{x_i-x_m}{x_i-x_m} = 1,$$\n",
    "\n",
    "en otras palabras, todas las bases polinomiales son cero en $x=x_i$, excepto $l_i(x_i)$, para la cual se tiene $l_i(x_i)=1$. Lo que sigue es que $y_il_i(x_i) = y_i$, entonces para cada punto $x_i$, $L(x_i) = y_i+0+0+\\ldots+0 = y_i$, demostrando que $L$ interpola a la función de manera exacta."
   ]
  },
  {
   "cell_type": "code",
   "execution_count": 26,
   "metadata": {
    "collapsed": true
   },
   "outputs": [],
   "source": [
    "listx = [1,5,-2];"
   ]
  },
  {
   "cell_type": "code",
   "execution_count": 27,
   "metadata": {
    "collapsed": true
   },
   "outputs": [],
   "source": [
    "listy = [2,7,8];"
   ]
  },
  {
   "cell_type": "code",
   "execution_count": 3,
   "metadata": {},
   "outputs": [
    {
     "name": "stderr",
     "output_type": "stream",
     "text": [
      "\u001b[1m\u001b[36mINFO: \u001b[39m\u001b[22m\u001b[36mInstalling PyQt5 via Anaconda's /home/david/anaconda3/bin/conda...\n",
      "\u001b[39m"
     ]
    },
    {
     "name": "stdout",
     "output_type": "stream",
     "text": [
      "Fetching package metadata .........\n",
      "Solving package specifications: .\n",
      "\n",
      "# All requested packages already installed.\n",
      "# packages in environment at /home/david/anaconda3:\n",
      "#\n",
      "pyqt                      4.11.4                   py35_4  \n"
     ]
    }
   ],
   "source": [
    "using PyPlot"
   ]
  },
  {
   "cell_type": "code",
   "execution_count": 4,
   "metadata": {
    "collapsed": true
   },
   "outputs": [],
   "source": [
    "using SymPy"
   ]
  },
  {
   "cell_type": "code",
   "execution_count": 29,
   "metadata": {},
   "outputs": [
    {
     "data": {
      "text/plain": [
       "base_lagrange (generic function with 1 method)"
      ]
     },
     "execution_count": 29,
     "metadata": {},
     "output_type": "execute_result"
    }
   ],
   "source": [
    "function base_lagrange(j,listx,x)\n",
    "    l=1\n",
    "    for i = 1:length(listx)\n",
    "         if i != j\n",
    "            l = l*(x-listx[i])/(listx[j]-listx[i])\n",
    "         end\n",
    "    end\n",
    "    return l\n",
    "end"
   ]
  },
  {
   "cell_type": "code",
   "execution_count": 51,
   "metadata": {},
   "outputs": [
    {
     "data": {
      "text/plain": [
       "Lagrange (generic function with 2 methods)"
      ]
     },
     "execution_count": 51,
     "metadata": {},
     "output_type": "execute_result"
    }
   ],
   "source": [
    "function Lagrange(listx,listy,x)\n",
    "    L=0\n",
    "    for i in 1:length(listy)\n",
    "       L = L + base_lagrange(i,listx,x)*listy[i]\n",
    "    end\n",
    "    return L\n",
    "end"
   ]
  },
  {
   "cell_type": "code",
   "execution_count": 52,
   "metadata": {},
   "outputs": [
    {
     "data": {
      "text/plain": [
       "2.9225000000000003"
      ]
     },
     "execution_count": 52,
     "metadata": {},
     "output_type": "execute_result"
    }
   ],
   "source": [
    "Lagrange(listx,listy,0.1)"
   ]
  },
  {
   "cell_type": "code",
   "execution_count": 59,
   "metadata": {},
   "outputs": [
    {
     "data": {
      "text/plain": [
       "L (generic function with 1 method)"
      ]
     },
     "execution_count": 59,
     "metadata": {},
     "output_type": "execute_result"
    }
   ],
   "source": [
    "L(x)=Lagrange(listx,listy,x)"
   ]
  },
  {
   "cell_type": "code",
   "execution_count": 62,
   "metadata": {
    "collapsed": true
   },
   "outputs": [],
   "source": [
    "x=linspace(-3,6,1000);\n",
    "y=L.(x);"
   ]
  },
  {
   "cell_type": "code",
   "execution_count": 63,
   "metadata": {},
   "outputs": [
    {
     "data": {
      "image/png": "[encoded data removed]",
      "text/plain": [
       "PyPlot.Figure(PyObject <matplotlib.figure.Figure object at 0x7f212b8820f0>)"
      ]
     },
     "metadata": {},
     "output_type": "display_data"
    }
   ],
   "source": [
    "scatter(listx,listy,color=\"red\")\n",
    "plot(x,y)\n",
    "show()"
   ]
  },
  {
   "cell_type": "code",
   "execution_count": 65,
   "metadata": {},
   "outputs": [
    {
     "data": {
      "text/latex": [
       "$$\\frac{13 x^{2}}{28} - \\frac{43 x}{28} + \\frac{43}{14}$$"
      ],
      "text/plain": [
       "    2            \n",
       "13⋅x    43⋅x   43\n",
       "───── - ──── + ──\n",
       "  28     28    14"
      ]
     },
     "execution_count": 65,
     "metadata": {},
     "output_type": "execute_result"
    }
   ],
   "source": [
    "expand(Lagrange(listx,listy,Sym(\"x\")))"
   ]
  }
 ],
 "metadata": {
  "kernelspec": {
   "display_name": "Julia 0.6.0",
   "language": "julia",
   "name": "julia-0.6"
  },
  "language_info": {
   "file_extension": ".jl",
   "mimetype": "application/julia",
   "name": "julia",
   "version": "0.6.0"
  },
  "latex_envs": {
   "bibliofile": "biblio.bib",
   "cite_by": "apalike",
   "current_citInitial": 1,
   "eqLabelWithNumbers": true,
   "eqNumInitial": 0
  }
 },
 "nbformat": 4,
 "nbformat_minor": 2
}
