{
 "cells": [
  {
   "cell_type": "markdown",
   "metadata": {},
   "source": [
    "# Interpolación polinomial en la forma de Lagrange\n",
    "\n",
    "Dado un conjunto de $k+1$ puntos\n",
    "\n",
    "$$(x_0,y_0),\\ldots,(x_j,y_j),\\ldots,(x_k,y_k)$$\n",
    "\n",
    "donde las $x_j$ no son iguales, la interpolación polinomial en la forma de Lagrange es una combinación lineal\n",
    "\n",
    "$$L(x):= \\sum_{j=0}^{k}y_jl_j(x)$$\n",
    "\n",
    "de las bases polinomiales de Lagrange\n",
    "\n",
    "$$l_j(x) = \\prod_{0 \\le m \\le k \\atop m \\ne j} \\frac{x-x_m}{x_j-x_m}.$$\n",
    "\n",
    "Para cada $i \\ne j$, $l_j(x)$ incluye el término $(x-x_i)$ en el numerador, entonces el producto entero será cero en $x=x_i$:\n",
    "\n",
    "$$l_{j\\ne i}(x_i) = \\prod_{m \\ne j} \\frac{x_i-x_m}{x_j-x_m} = \\frac{x_i-x_0}{x_j-x_0} \\ldots \\frac{x_i-x_i}{x_j-x_i} \\ldots \\frac{x_i-x_k}{x_j-x_k} = 0.$$\n",
    "\n",
    "Por otro lado\n",
    "\n",
    "$$l_i(x_i) = \\prod_{m \\ne i} \\frac{x_i-x_m}{x_i-x_m} = 1,$$\n",
    "\n",
    "en otras palabras, todas las bases polinomiales son cero en $x=x_i$, excepto $l_i(x_i)$, para la cual se tiene $l_i(x_i)=1$. Lo que sigue es que $y_il_i(x_i) = y_i$, entonces para cada punto $x_i$, $L(x_i) = y_i+0+0+\\ldots+0 = y_i$, demostrando que $L$ interpola a la función de manera exacta."
   ]
  },
  {
   "cell_type": "code",
   "execution_count": 18,
   "metadata": {},
   "outputs": [],
   "source": [
    "listx = [1,5,-2];"
   ]
  },
  {
   "cell_type": "code",
   "execution_count": 27,
   "metadata": {},
   "outputs": [
    {
     "data": {
      "text/plain": [
       "3×3 Array{Float64,2}:\n",
       " 0.0  0.0  0.0\n",
       " 0.0  0.0  0.0\n",
       " 0.0  0.0  0.0"
      ]
     },
     "execution_count": 27,
     "metadata": {},
     "output_type": "execute_result"
    }
   ],
   "source": [
    "zeros(3,3)"
   ]
  },
  {
   "cell_type": "code",
   "execution_count": 19,
   "metadata": {},
   "outputs": [],
   "source": [
    "listy = [2,7,8];"
   ]
  },
  {
   "cell_type": "code",
   "execution_count": 6,
   "metadata": {},
   "outputs": [
    {
     "name": "stderr",
     "output_type": "stream",
     "text": [
      "\u001b[1m\u001b[36mINFO: \u001b[39m\u001b[22m\u001b[36mRecompiling stale cache file /home/lorena/.julia/lib/v0.6/PyCall.ji for module PyCall.\n",
      "\u001b[39m\u001b[1m\u001b[36mINFO: \u001b[39m\u001b[22m\u001b[36mRecompiling stale cache file /home/lorena/.julia/lib/v0.6/PyPlot.ji for module PyPlot.\n",
      "\u001b[39m"
     ]
    }
   ],
   "source": [
    "using PyPlot"
   ]
  },
  {
   "cell_type": "code",
   "execution_count": 20,
   "metadata": {},
   "outputs": [
    {
     "data": {
      "image/png": "[encoded data removed]",
      "text/plain": [
       "PyPlot.Figure(PyObject <matplotlib.figure.Figure object at 0x7fab1ea47ac8>)"
      ]
     },
     "metadata": {},
     "output_type": "display_data"
    },
    {
     "data": {
      "text/plain": [
       "PyObject <matplotlib.collections.PathCollection object at 0x7fab1e245c50>"
      ]
     },
     "execution_count": 20,
     "metadata": {},
     "output_type": "execute_result"
    }
   ],
   "source": [
    "scatter(listx,listy)"
   ]
  },
  {
   "cell_type": "code",
   "execution_count": 39,
   "metadata": {},
   "outputs": [
    {
     "name": "stderr",
     "output_type": "stream",
     "text": [
      "\u001b[1m\u001b[36mINFO: \u001b[39m\u001b[22m\u001b[36mRecompiling stale cache file /home/lorena/.julia/lib/v0.6/SymPy.ji for module SymPy.\n",
      "\u001b[39m"
     ]
    }
   ],
   "source": [
    "using SymPy"
   ]
  },
  {
   "cell_type": "code",
   "execution_count": 53,
   "metadata": {},
   "outputs": [
    {
     "data": {
      "text/plain": [
       "bases (generic function with 1 method)"
      ]
     },
     "execution_count": 53,
     "metadata": {},
     "output_type": "execute_result"
    }
   ],
   "source": [
    "function bases(index,list,var)\n",
    "    l=1\n",
    "    for i = 1:length(list)\n",
    "         if i != index\n",
    "            l = l*(var-list[i])/(list[index]-list[i])\n",
    "         end\n",
    "    end\n",
    "    return l\n",
    "end"
   ]
  },
  {
   "cell_type": "code",
   "execution_count": 61,
   "metadata": {},
   "outputs": [
    {
     "data": {
      "text/plain": [
       "Lagrange (generic function with 2 methods)"
      ]
     },
     "execution_count": 61,
     "metadata": {},
     "output_type": "execute_result"
    }
   ],
   "source": [
    "function Lagrange(list1,list2)\n",
    "    L=0\n",
    "    for i = 1:length(list)\n",
    "       L = L + bases(i,list1,Sym(\"x\"))*list2[i]\n",
    "    end\n",
    "    return expand(L)\n",
    "end"
   ]
  },
  {
   "cell_type": "code",
   "execution_count": 62,
   "metadata": {},
   "outputs": [
    {
     "data": {
      "text/latex": [
       "$$\\frac{x^{2}}{12} + \\frac{3 x}{4} + \\frac{7}{6}$$"
      ],
      "text/plain": [
       " 2          \n",
       "x    3⋅x   7\n",
       "── + ─── + ─\n",
       "12    4    6"
      ]
     },
     "execution_count": 62,
     "metadata": {},
     "output_type": "execute_result"
    }
   ],
   "source": [
    "Lagrange(listx,listy)"
   ]
  }
 ],
 "metadata": {
  "kernelspec": {
   "display_name": "Julia 0.6.0",
   "language": "julia",
   "name": "julia-0.6"
  },
  "language_info": {
   "file_extension": ".jl",
   "mimetype": "application/julia",
   "name": "julia",
   "version": "0.6.0"
  }
 },
 "nbformat": 4,
 "nbformat_minor": 2
}
