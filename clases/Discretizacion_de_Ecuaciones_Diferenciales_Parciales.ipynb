{
 "cells": [
  {
   "cell_type": "markdown",
   "metadata": {},
   "source": [
    "# Discretizacion de Ecuaciones Diferenciales Parciales\n",
    "Revisaremos y programaremos los siguientes metodos:\n",
    "## Diferencias finitas\n",
    "### Mallado\n",
    "Consideremos el intervalo $[0,1]$ el cual se descompone mediante el siguiente mallado equidistante\n",
    "$$x_i = ih, \\quad i= 0,\\ldots,n, \\quad h = 1/n \\quad \\text{- nodos,}$$ \n",
    "$$w_h = \\{ x_i = i, \\ldots, n \\} \\quad \\text{- mallado.}$$\n",
    "### Función de mallado\n",
    "Un vector $\\mathbf{u}_h=(u_0,\\ldots,u_n)^T \\in \\mathbb{R}^{n+1}$ al cual se le asigna a cada punto del mallado un valor de la función es llamado función del mallado.\n",
    "### Diferencias finitas\n",
    "Sea $v(x)$ una función lo suficientemente suave y denotada por $v_i=v_i(x_i)$, donde $x_i$ son los nodos del mallado. Los siguientes cocientes son llamados\n",
    "\n",
    "$$ v_{x,i} = \\frac{v_{i+1}-v_i}{h} \\quad \\text{- diferencia hacia adelante,}$$\n",
    "\n",
    "$$ v_{x,i} = \\frac{v_i-v_{i-1}}{h} \\quad \\text{- diferencia hacia atrás,}$$\n",
    "\n",
    "$$ v_{x,i} = \\frac{v_{i+1}-v_{i-1}}{2 h} \\quad \\text{- diferencia central,}$$\n",
    "\n",
    "$$v_{xx,i} = \\frac{v_{i+1}-2v_{i}+v_{i-1}}{h^2} \\quad \\text{- diferencia de segundo orden.}$$\n",
    "#### Aproximación por diferencias finitas para el Laplaciano en dos dimensiones\n",
    "El Laplaciano en dos dimensiones está definido como\n",
    "\n",
    "$$ \\nabla^2 u(\\mathbf{x}) = \\frac{\\partial^2 u}{\\partial x^2}+\\frac{\\partial^2 u}{\\partial y^2},$$\n",
    "la aproximación más simple usa la derivada de segundo orden para diferencias finitas\n",
    "\n",
    "$$ \\nabla^2 u \\approx \\frac{u_{i+1,j}-2u_{i,j}+u_{i-1,j}}{h^2_x} + \\frac{u_{i,j+1}-2u_{i,j}+u_{i,j-1}}{h^2_y}.$$"
   ]
  },
  {
   "cell_type": "markdown",
   "metadata": {},
   "source": [
    "# Amaro edita aqui"
   ]
  },
  {
   "cell_type": "markdown",
   "metadata": {},
   "source": [
    "# Ecuación de calor\n",
    "\n",
    "Para una temperatura $u(t,\\mathbf{x})$, en el punto $\\mathbf{x} \\in \\Omega \\subset \\mathbb{R}^3$ y tiempo $t$, se consideran las siguientes cantidades físicas:\n",
    "\n",
    "* $\\rho(t,\\mathbf{x})$: densidad de la especie considerada.\n",
    "* $c(t,\\mathbf{x})$: capacidad de calor específica de la especie.\n",
    "* $\\kappa (t,\\mathbf{x})$: la conductividad térmica de dicha especie.\n",
    "* $F(t,\\mathbf{x})$: la intensidad de las fuentes o sumideros de calor.\n",
    "\n",
    "Para una especie homogénea, $c$, $\\rho$ y $\\kappa$ son constantes positivas. Entonces la ecuación de calor se expresa como\n",
    "\n",
    "\n",
    "$$\\frac{\\partial u}{\\partial t}-\\epsilon^2 \\nabla^2 u = f,$$\n",
    "\n",
    "donde $\\epsilon^2=\\kappa/c\\rho$, y $f=F/c\\rho$. Para obtener un problema bien planteado, la ecuación de calor debe tener una condición inicial $u(0,\\mathbf{x})$ y las condiciones de frontera apropiadas.\n",
    "\n",
    "### Condiciones de frontera\n",
    "\n",
    "Para la ecuación de calor, se puede determinar las siguientes condiciones de frontera:\n",
    "\n",
    "* Condiciones de Dirichlet: La temperatura $u(t,\\mathbf{x})$ tiene un valor específico a lo largo de la frontera del dominio.\n",
    "\n",
    "$$ u(t,\\mathbf{x})=g_1, \\quad \\forall \\mathbf{x} \\in \\partial \\Omega $$\n",
    "\n",
    "* Condiciones de Neumann: El flujo de calor está determinado en la frontera.\n",
    "$$ -\\kappa \\frac{\\partial u}{\\partial \\mathbf{n}} = g_2, \\quad \\forall \\mathbf{x} \\in \\partial \\Omega$$\n",
    "\n",
    "* Condición de frontera mixta o condición de frontera de Robin: En la frontera, hay un intercambio de calor de acuerdo a la ley de Newton\n",
    "\n",
    "$$ \\kappa \\frac{\\partial u}{\\partial \\mathbf{n}}+h(u-u_{env}) = 0, \\quad \\forall \\mathbf{x} \\in \\partial \\Omega$$\n",
    "\n",
    "donde $h$ es el coeficiente de intercambio de calor y $u_{env}$ es la temperatura de los alrededores."
   ]
  },
  {
   "cell_type": "code",
   "execution_count": null,
   "metadata": {
    "collapsed": true
   },
   "outputs": [],
   "source": []
  }
 ],
 "metadata": {
  "kernelspec": {
   "display_name": "Julia 0.6.0",
   "language": "julia",
   "name": "julia-0.6"
  },
  "language_info": {
   "file_extension": ".jl",
   "mimetype": "application/julia",
   "name": "julia",
   "version": "0.6.0"
  },
  "latex_envs": {
   "bibliofile": "biblio.bib",
   "cite_by": "apalike",
   "current_citInitial": 1,
   "eqLabelWithNumbers": true,
   "eqNumInitial": 0
  }
 },
 "nbformat": 4,
 "nbformat_minor": 2
}
