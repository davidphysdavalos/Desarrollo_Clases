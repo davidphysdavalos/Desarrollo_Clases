{
 "cells": [
  {
   "cell_type": "markdown",
   "metadata": {},
   "source": [
    "El método de Euler se basa en utilizar la ecuación\n",
    "diferencial como una ecuación para la pendiente de una\n",
    "función desconocida[wikipedia]. Utilizando la pendiente se puede\n",
    "encontrar la recta tangente a la curva en un punto de la\n",
    "cual se extrae un punto sobre dicha recta cercano al punto\n",
    "original y que suponemos pertenece a la curva de la función\n",
    "desconocida."
   ]
  },
  {
   "cell_type": "markdown",
   "metadata": {},
   "source": [
    "\n",
    "__Ejercicio 1:__. Implementa el método de Euler en `Julia`."
   ]
  },
  {
   "cell_type": "markdown",
   "metadata": {},
   "source": [
    "### Desacoplamiento de ecuaciones diferenciales de orden 2.\n",
    "\n",
    "__Ejercicio 2:__. ¿Qué sistema físico está modelado por $\\ddot{x} =\n",
    "-kx$?\n",
    "\n",
    "A simple vista, uno podría pensar que para resolver este\n",
    "sistema uno debe desarrollar otro método para encontrar la\n",
    "solución a la ecuación diferencial del ejercicio pasado. Sin\n",
    "embargo, esto no es necesario.\n",
    "\n",
    "__Ejercicio 3:__. Haz $u = \\dot{x}(t)$ y calcula la derivada de\n",
    "$u$ ¿qué obtienes y como se relaciona con el sistema\n",
    "original?\n",
    "\n",
    "Si llevaste a cabo el ejercicio anterior, te darás cuenta\n",
    "que terminas con un sistema acoplado de ecuaciones\n",
    "diferenciales:\n",
    "\n",
    "$$\n",
    "\\dot{u} = kx, \\dot{x} = u,\n",
    "$$\n",
    "\n",
    "Con este sistema desacoplado puedes utilizar el método de\n",
    "Euler tomando en cuenta que necesitas añadir una condición\n",
    "inicial adicional y que $u_{n+1}$ está dado por una función\n",
    "de los valores $u_n$, $x_n$ y $t_n$.\n",
    "\n",
    "__Ejercicio 4:__. Obten la solución del sistema $\\ddot{x} = -kx(t)$\n",
    "utilizando lo escrito arriba y el método de Euler. Recuerda\n",
    "que ahora además de conocer $x_0$ y $t_0$, deberás saber el\n",
    "valor de $u_0$.\n",
    "\n",
    "__Ejercicio 5:__ Aplicar el método de Euler para resolver la ecuación:\n",
    "$$\\frac{dx}{dt}=\\frac{2x-18 t}{1+t}.$$\n",
    "Compare su respuesta con la solución exacta: $4+8t-5t^2$"
   ]
  }
 ],
 "metadata": {
  "kernelspec": {
   "display_name": "Julia 0.6.0",
   "language": "julia",
   "name": "julia-0.6"
  },
  "language_info": {
   "file_extension": ".jl",
   "mimetype": "application/julia",
   "name": "julia",
   "version": "0.6.0"
  },
  "latex_envs": {
   "bibliofile": "biblio.bib",
   "cite_by": "apalike",
   "current_citInitial": 1,
   "eqLabelWithNumbers": true,
   "eqNumInitial": 0
  }
 },
 "nbformat": 4,
 "nbformat_minor": 2
}
