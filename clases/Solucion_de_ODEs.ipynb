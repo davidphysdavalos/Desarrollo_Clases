{
 "cells": [
  {
   "cell_type": "markdown",
   "metadata": {},
   "source": [
    "## Método de Euler\n",
    "\n",
    "![Ilustración](./images/ilustracion1.png)\n",
    "\n",
    "__Ejercicio 1__. Considera la gráfica de la función $\\sin(x)$,\n",
    "$x = -\\pi/2, -\\pi/2 + 0.1, \\dots, \\pi/2-0.1, \\pi/2.$\n",
    "Elige un punto $P = \\bigl(x_0, \\sin(x_0)\\bigr)$ y grafica un\n",
    "segmento de la recta tangente a ese punto junto con la\n",
    "gráfica de la función seno. Repítelo para al menos 5 puntos.\n",
    "\n",
    "__Ejercicio 2__. Observando las gráficas siguientes, describe un método\n",
    "para conocer una función a partir de conocer la recta\n",
    "pendiente en ciertos puntos sobre la curva de la función\n",
    "desconocida."
   ]
  },
  {
   "cell_type": "markdown",
   "metadata": {},
   "source": [
    "![Gráfica de la función seno junto con segmentos de rectas\n",
    "tangentes a la curva de dicha función.](./images/seno5.png)\n",
    "![Gráfica de la función seno junto con segmentos de rectas\n",
    "tangentes a la curva de dicha función.](./images/seno5r.png)"
   ]
  },
  {
   "cell_type": "markdown",
   "metadata": {},
   "source": [
    "El método de Euler se basa en utilizar la ecuación\n",
    "diferencial como una ecuación para la pendiente de una\n",
    "función desconocida[wikipedia]. Utilizando la pendiente se puede\n",
    "encontrar la recta tangente a la curva en un punto de la\n",
    "cual se extrae un punto sobre dicha recta cercano al punto\n",
    "original y que suponemos pertenece a la curva de la función\n",
    "desconocida."
   ]
  },
  {
   "cell_type": "markdown",
   "metadata": {},
   "source": [
    "__Ejercicio__. Utilizando el comentario de arriba deriva la siguiente expresión:\n",
    "$$y_{n+1} = y_{n} + h f(x_{n}, y_{n}),$$\n",
    "en donde $y_{n} = y(x_n)$."
   ]
  },
  {
   "cell_type": "markdown",
   "metadata": {},
   "source": [
    "\n",
    "__Ejercicio__. Implementa el método de Euler en `Julia`."
   ]
  },
  {
   "cell_type": "markdown",
   "metadata": {},
   "source": [
    "### Desacoplamiento de ecuaciones diferenciales de orden 2.\n",
    "\n",
    "__Ejercicio__. ¿Qué sistema físico está modelado por $\\ddot{x} =\n",
    "-kx$?\n",
    "\n",
    "A simple vista, uno podría pensar que para resolver este\n",
    "sistema uno debe desarrollar otro método para encontrar la\n",
    "solución a la ecuación diferencial del ejercicio pasado. Sin\n",
    "embargo, esto no es necesario.\n",
    "\n",
    "__Ejercicio__. Haz $u = \\dot{x}(t)$ y calcula la derivada de\n",
    "$u$ ¿qué obtienes y como se relaciona con el sistema\n",
    "original?\n",
    "\n",
    "Si llevaste a cabo el ejercicio anterior, te darás cuenta\n",
    "que terminas con un sistema acoplado de ecuaciones\n",
    "diferenciales:\n",
    "\n",
    "$$\n",
    "\\dot{u} = kx, \\dot{x} = u,\n",
    "$$\n",
    "\n",
    "Con este sistema desacoplado puedes utilizar el método de\n",
    "Euler tomando en cuenta que necesitas añadir una condición\n",
    "inicial adicional y que $u_{n+1}$ está dado por una función\n",
    "de los valores $u_n$, $x_n$ y $t_n$.\n",
    "\n",
    "__Ejercicio__. Obten la solución del sistema $\\ddot{x} = -kx(t)$\n",
    "utilizando lo escrito arriba y el método de Euler. Recuerda\n",
    "que ahora además de conocer $x_0$ y $t_0$, deberás saber el\n",
    "valor de $u_0$."
   ]
  },
  {
   "cell_type": "markdown",
   "metadata": {},
   "source": [
    "## Método de Runge-Kutta"
   ]
  },
  {
   "cell_type": "markdown",
   "metadata": {},
   "source": [
    "El método de Euler se basa en utilizar un punto la recta\n",
    "tangente para obtener información de la función desconocida.\n",
    "En la clase de métodos de Runge-Kutta se utilizan más\n",
    "puntos sobre la recta tangente para conocer la solución.\n",
    "\n",
    "Se derivará el método de Runge-Kutta de orden dos con la\n",
    "esperanza de explicar el funcionamiento.\n",
    "\n",
    "Con el método de RK2 se parte del método de Euler. Se toma\n",
    "un punto sobre la recta cuya pendiente es la derivada de la\n",
    "función desconocida y se calcula la pendiente de la recta\n",
    "tangente a la curva de la función desconocida. Se toma un\n",
    "punto sobre esta nueva recta y se toma otro que viva en la\n",
    "combinación lineal del primer punto con la del segundo.\n",
    "Comúnmente, se toma el punto entre ellos. Este punto, será\n",
    "el que utilicemos para la siguiente iteración."
   ]
  },
  {
   "cell_type": "markdown",
   "metadata": {},
   "source": [
    "Se tiene una función desconocida $f(t)$ pero que se conoce\n",
    "su pendiente. Esto se puede expresar como $f' = F(f, t)$,\n",
    "con $F$ una función de la imagen de $f$ y de su dominio $t$.\n",
    "A partir de una condición inicial, $f(t_0) = y_0$, se\n",
    "pretende conocer la función $f$ en una serie de puntos de su\n",
    "dominio, $\\{t_0, t_1, \\dots, t_n\\}$. Para lograr esto, se\n",
    "utiliza la información de la recta cuya tangente está dada\n",
    "por $F$. El primer paso es obtener la recta que tiene\n",
    "pendiente $F(y_0, t_0)$ y pasa por el punto $y_0$,\n",
    "etiquetada por $L$. A continuación, se toma un punto sobre\n",
    "esta recta $L$, $(t_1', y_1')$, y se calcula la recta que\n",
    "tiene pendiente $F(y_1', t_1')$ que pasa por el punto\n",
    "$(y_1', t_1')$, llamemos a esta nueva recta $L'$.\n",
    "Posteriomente, se toma un punto sobre esta recta $L'$,\n",
    "llamémosle $(y_1'', t_1'')$. Finalmente, se toma un punto en\n",
    "la recta que une a los puntos $(y_1', t_1')$ y $(y_{1}'',t_{1}'')$, con el fin de ser precisos, tomemos el que se\n",
    "encuentra a la mitad de este segmento y llamémosle, $(y_1,\n",
    "t_1)$ y como lo indica la notación este será considerado el\n",
    "nuevo punto en la gráfica de la función $f(t)$ \\emph{vs}\n",
    "$t$."
   ]
  },
  {
   "cell_type": "markdown",
   "metadata": {},
   "source": [
    "Considera el movimiento de la partícula modelado por la\n",
    "función lagrangiana\n",
    "\n",
    "$$\n",
    "\\mathcal{L} = \\frac{1}{2}\\dot{x}^2+\\frac{1}{2}\\dot{y}^2 +\n",
    "\\cos(x-y).\n",
    "$$"
   ]
  },
  {
   "cell_type": "markdown",
   "metadata": {},
   "source": [
    "__Ejercicio 1__. Encuentra las cantidades conservadas.\n",
    "*Sugerencia*: utiliza las ecuaciones de Euler-Lagrange."
   ]
  },
  {
   "cell_type": "markdown",
   "metadata": {},
   "source": [
    "__Ejercicio 2__. Utiliza tu función del método de Euler para\n",
    "resolver el sistema. Grafica la suma de las velocidades y\n",
    "compara con tu solución del ejercicio pasado."
   ]
  },
  {
   "cell_type": "markdown",
   "metadata": {},
   "source": [
    "__Ejercicio 3__. Utiliza tu función del método de Runge-Kutta de\n",
    "cuarto orden, para resolver el sistema. Grafica la suma de\n",
    "las velocidades y compara con tu solución del ejercicio 1."
   ]
  }
 ],
 "metadata": {
  "kernelspec": {
   "display_name": "Julia 0.6.0",
   "language": "julia",
   "name": "julia-0.6"
  },
  "language_info": {
   "file_extension": ".jl",
   "mimetype": "application/julia",
   "name": "julia",
   "version": "0.6.0"
  },
  "latex_envs": {
   "bibliofile": "biblio.bib",
   "cite_by": "apalike",
   "current_citInitial": 1,
   "eqLabelWithNumbers": true,
   "eqNumInitial": 0
  }
 },
 "nbformat": 4,
 "nbformat_minor": 2
}
