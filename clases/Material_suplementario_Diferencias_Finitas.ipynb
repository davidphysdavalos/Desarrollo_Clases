{
 "cells": [
  {
   "cell_type": "markdown",
   "metadata": {},
   "source": [
    "# Diferencias finitas"
   ]
  },
  {
   "cell_type": "code",
   "execution_count": 207,
   "metadata": {
    "collapsed": true
   },
   "outputs": [],
   "source": [
    "using SymPy"
   ]
  },
  {
   "cell_type": "code",
   "execution_count": 43,
   "metadata": {
    "collapsed": false
   },
   "outputs": [],
   "source": [
    "x=Sym(\"x\");\n",
    "h=Sym(\"h\");"
   ]
  },
  {
   "cell_type": "code",
   "execution_count": 3,
   "metadata": {
    "collapsed": true
   },
   "outputs": [],
   "source": [
    "function coeff_Taylor_Log(i)\n",
    "    subs(diff(log(x+1),x,i)/factorial(i),x=>0)\n",
    "end;"
   ]
  },
  {
   "cell_type": "code",
   "execution_count": 212,
   "metadata": {
    "collapsed": false
   },
   "outputs": [],
   "source": [
    "function finite_difference_forward(f)\n",
    "    return (x,h)->f(x+h,h)-f(x,h)\n",
    "end;"
   ]
  },
  {
   "cell_type": "code",
   "execution_count": 258,
   "metadata": {
    "collapsed": false
   },
   "outputs": [],
   "source": [
    "function Derivative_order(f,x::Sym,h::Sym,order)\n",
    "    der=SymFunction(\"der\")\n",
    "    der=Sym(\"0\")\n",
    "    term=SymFunction(\"term\")\n",
    "    term(x,h)=f(x)\n",
    "    for i in range(1,order)\n",
    "        term=finite_difference_forward(term)\n",
    "        der=der+coeff_Taylor_Log(i)*term(x,h)\n",
    "    end\n",
    "    der/h\n",
    "end;\n",
    "function Derivative_order(f::Function,X::Float64,H::Float64,order::Int64)\n",
    "    x=Sym(\"x\")\n",
    "    h=Sym(\"h\")\n",
    "    result=Derivative_order(f,x,h,order)\n",
    "    return N(subs(result,x=>X,h=>H))\n",
    "end;"
   ]
  },
  {
   "cell_type": "code",
   "execution_count": 333,
   "metadata": {
    "collapsed": false
   },
   "outputs": [
    {
     "data": {
      "text/latex": [
       "$$\\frac{1}{60 h} \\left(- 137 f{\\left (x \\right )} + 300 f{\\left (h + x \\right )} - 300 f{\\left (2 h + x \\right )} + 200 f{\\left (3 h + x \\right )} - 75 f{\\left (4 h + x \\right )} + 12 f{\\left (5 h + x \\right )}\\right)$$"
      ],
      "text/plain": [
       "-137⋅f(x) + 300⋅f(h + x) - 300⋅f(2⋅h + x) + 200⋅f(3⋅h + x) - 75⋅f(4⋅h + x) + 1\n",
       "──────────────────────────────────────────────────────────────────────────────\n",
       "                                           60⋅h                               \n",
       "\n",
       "2⋅f(5⋅h + x)\n",
       "────────────\n",
       "            "
      ]
     },
     "execution_count": 333,
     "metadata": {},
     "output_type": "execute_result"
    }
   ],
   "source": [
    "simplify(Derivative_order(SymFunction(\"f\"),Sym(\"x\"),Sym(\"h\"),5))"
   ]
  },
  {
   "cell_type": "code",
   "execution_count": 317,
   "metadata": {
    "collapsed": false
   },
   "outputs": [
    {
     "data": {
      "text/plain": [
       "0.5440211109203119"
      ]
     },
     "execution_count": 317,
     "metadata": {},
     "output_type": "execute_result"
    }
   ],
   "source": [
    "Derivative_order(cos,10.0,0.01,15)"
   ]
  },
  {
   "cell_type": "code",
   "execution_count": 256,
   "metadata": {
    "collapsed": false
   },
   "outputs": [
    {
     "data": {
      "text/plain": [
       "0.5440211108893698"
      ]
     },
     "execution_count": 256,
     "metadata": {},
     "output_type": "execute_result"
    }
   ],
   "source": [
    "-sin(10.0)"
   ]
  },
  {
   "cell_type": "markdown",
   "metadata": {},
   "source": [
    "Si tomaste en serio el ejercicio 3 y tuviste la suerte de\n",
    "fijarte en los términos pares de la serie, es seguro que\n",
    "hayas propuesto una definición de la derivada de la forma:\n",
    "\n",
    "$$\n",
    "f'(x)\\vert_{x=x_0} = \\lim_{h\\to0}\\frac{f(x_0+h) - f(x_0-h)}{2h}.\n",
    "$$"
   ]
  },
  {
   "cell_type": "code",
   "execution_count": 334,
   "metadata": {
    "collapsed": false
   },
   "outputs": [
    {
     "data": {
      "text/latex": [
       "$$f{\\left (x \\right )} + h \\left. \\frac{d}{d \\xi_{1}} f{\\left (\\xi_{1} \\right )} \\right|_{\\substack{ \\xi_{1}=x }} + \\frac{h^{2}}{2} \\left. \\frac{d^{2}}{d \\xi_{1}^{2}}  f{\\left (\\xi_{1} \\right )} \\right|_{\\substack{ \\xi_{1}=x }} + \\frac{h^{3}}{6} \\left. \\frac{d^{3}}{d \\xi_{1}^{3}}  f{\\left (\\xi_{1} \\right )} \\right|_{\\substack{ \\xi_{1}=x }} + \\mathcal{O}\\left(h^{4}\\right)$$"
      ],
      "text/plain": [
       "                                ⎛  2        ⎞│          ⎛  3        ⎞│        \n",
       "                              2 ⎜ d         ⎟│        3 ⎜ d         ⎟│        \n",
       "                             h ⋅⎜────(f(ξ₁))⎟│       h ⋅⎜────(f(ξ₁))⎟│        \n",
       "                                ⎜   2       ⎟│          ⎜   3       ⎟│        \n",
       "         ⎛ d        ⎞│          ⎝dξ₁        ⎠│ξ₁=x      ⎝dξ₁        ⎠│ξ₁=x    \n",
       "f(x) + h⋅⎜───(f(ξ₁))⎟│     + ───────────────────── + ───────────────────── + O\n",
       "         ⎝dξ₁       ⎠│ξ₁=x             2                       6              \n",
       "\n",
       "    \n",
       "    \n",
       "    \n",
       "    \n",
       "⎛ 4⎞\n",
       "⎝h ⎠\n",
       "    "
      ]
     },
     "execution_count": 334,
     "metadata": {},
     "output_type": "execute_result"
    }
   ],
   "source": [
    "series(f(x+h),h,0,4)"
   ]
  },
  {
   "cell_type": "code",
   "execution_count": 335,
   "metadata": {
    "collapsed": false
   },
   "outputs": [
    {
     "data": {
      "text/latex": [
       "$$2 h \\left. \\frac{d}{d \\xi_{1}} f{\\left (\\xi_{1} \\right )} \\right|_{\\substack{ \\xi_{1}=x }} + \\frac{h^{3}}{3} \\left. \\frac{d^{3}}{d \\xi_{1}^{3}}  f{\\left (\\xi_{1} \\right )} \\right|_{\\substack{ \\xi_{1}=x }} + \\frac{h^{5}}{60} \\left. \\frac{d^{5}}{d \\xi_{1}^{5}}  f{\\left (\\xi_{1} \\right )} \\right|_{\\substack{ \\xi_{1}=x }} + \\mathcal{O}\\left(h^{6}\\right)$$"
      ],
      "text/plain": [
       "                           ⎛  3        ⎞│          ⎛  5        ⎞│            \n",
       "                         3 ⎜ d         ⎟│        5 ⎜ d         ⎟│            \n",
       "                        h ⋅⎜────(f(ξ₁))⎟│       h ⋅⎜────(f(ξ₁))⎟│            \n",
       "                           ⎜   3       ⎟│          ⎜   5       ⎟│            \n",
       "    ⎛ d        ⎞│          ⎝dξ₁        ⎠│ξ₁=x      ⎝dξ₁        ⎠│ξ₁=x    ⎛ 6⎞\n",
       "2⋅h⋅⎜───(f(ξ₁))⎟│     + ───────────────────── + ───────────────────── + O⎝h ⎠\n",
       "    ⎝dξ₁       ⎠│ξ₁=x             3                       60                 "
      ]
     },
     "execution_count": 335,
     "metadata": {},
     "output_type": "execute_result"
    }
   ],
   "source": [
    "series(f(x+h)-f(x-h),h,0,6)"
   ]
  },
  {
   "cell_type": "code",
   "execution_count": null,
   "metadata": {
    "collapsed": true
   },
   "outputs": [],
   "source": []
  }
 ],
 "metadata": {
  "kernelspec": {
   "display_name": "Julia 0.6.0",
   "language": "julia",
   "name": "julia-0.6"
  },
  "language_info": {
   "file_extension": ".jl",
   "mimetype": "application/julia",
   "name": "julia",
   "version": "0.6.0"
  },
  "latex_envs": {
   "bibliofile": "biblio.bib",
   "cite_by": "apalike",
   "current_citInitial": 1,
   "eqLabelWithNumbers": true,
   "eqNumInitial": 0
  }
 },
 "nbformat": 4,
 "nbformat_minor": 2
}
