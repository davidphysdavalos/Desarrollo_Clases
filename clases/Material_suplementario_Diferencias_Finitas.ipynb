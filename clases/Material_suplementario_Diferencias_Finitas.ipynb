{
 "cells": [
  {
   "cell_type": "markdown",
   "metadata": {},
   "source": [
    "# Diferencias finitas"
   ]
  },
  {
   "cell_type": "code",
   "execution_count": 1,
   "metadata": {
    "collapsed": true
   },
   "outputs": [],
   "source": [
    "using SymPy"
   ]
  },
  {
   "cell_type": "code",
   "execution_count": 3,
   "metadata": {},
   "outputs": [],
   "source": [
    "x=Sym(\"x\");\n",
    "h=Sym(\"h\");\n",
    "f=SymFunction(\"f\");"
   ]
  },
  {
   "cell_type": "code",
   "execution_count": 4,
   "metadata": {
    "collapsed": true
   },
   "outputs": [],
   "source": [
    "function coeff_Taylor_Log(i)\n",
    "    N(subs(diff(log(x+1.0),x,i)/factorial(Float64(i)),x=>0))\n",
    "end;"
   ]
  },
  {
   "cell_type": "code",
   "execution_count": 5,
   "metadata": {
    "collapsed": true
   },
   "outputs": [],
   "source": [
    "function coeff_Taylor_Log_rational(i)\n",
    "    subs(diff(log(x+1),x,i)/factorial(i),x=>0)\n",
    "end;"
   ]
  },
  {
   "cell_type": "code",
   "execution_count": 6,
   "metadata": {
    "collapsed": true
   },
   "outputs": [],
   "source": [
    "function finite_difference_forward(f)\n",
    "    return (x,h)->f(x+h,h)-f(x,h)\n",
    "end;"
   ]
  },
  {
   "cell_type": "code",
   "execution_count": 7,
   "metadata": {
    "collapsed": true
   },
   "outputs": [],
   "source": [
    "function Derivative_order(f,x,h,order)\n",
    "    term(x,h)=f(x)\n",
    "    g=term\n",
    "    der=0\n",
    "    for i in range(1,order)\n",
    "        g=finite_difference_forward(g)\n",
    "        der=der+coeff_Taylor_Log(i)*g(x,h)\n",
    "    end\n",
    "    der/h\n",
    "end;\n",
    "function Derivative_order_rational_coefficients(f,x,h,order)\n",
    "    term(x,h)=f(x)\n",
    "    g=term\n",
    "    der=0\n",
    "    for i in range(1,order)\n",
    "        g=finite_difference_forward(g)\n",
    "        der=der+coeff_Taylor_Log_rational(i)*g(x,h)\n",
    "    end\n",
    "    der/h\n",
    "end;"
   ]
  },
  {
   "cell_type": "code",
   "execution_count": 8,
   "metadata": {},
   "outputs": [
    {
     "data": {
      "text/latex": [
       "$$\\frac{1}{h} \\left(- 2.28333333333333 f{\\left (x \\right )} + 5.0 f{\\left (h + x \\right )} - 5.0 f{\\left (2 h + x \\right )} + 3.33333333333333 f{\\left (3 h + x \\right )} - 1.25 f{\\left (4 h + x \\right )} + 0.2 f{\\left (5 h + x \\right )}\\right)$$"
      ],
      "text/plain": [
       "-2.28333333333333*f(x) + 5.0*f(h + x) - 5.0*f(2*h + x) + 3.33333333333333*f(3*\n",
       "------------------------------------------------------------------------------\n",
       "                                                           h                  \n",
       "\n",
       "h + x) - 1.25*f(4*h + x) + 0.2*f(5*h + x)\n",
       "-----------------------------------------\n",
       "                                         "
      ]
     },
     "execution_count": 8,
     "metadata": {},
     "output_type": "execute_result"
    }
   ],
   "source": [
    "Derivative_order(SymFunction(\"f\"),Sym(\"x\"),Sym(\"h\"),5)"
   ]
  },
  {
   "cell_type": "code",
   "execution_count": 9,
   "metadata": {},
   "outputs": [
    {
     "data": {
      "text/latex": [
       "$$\\frac{1}{h} \\left(- \\frac{137}{60} f{\\left (x \\right )} + 5 f{\\left (h + x \\right )} - 5 f{\\left (2 h + x \\right )} + \\frac{10}{3} f{\\left (3 h + x \\right )} - \\frac{5}{4} f{\\left (4 h + x \\right )} + \\frac{1}{5} f{\\left (5 h + x \\right )}\\right)$$"
      ],
      "text/plain": [
       "  137*f(x)                               10*f(3*h + x)   5*f(4*h + x)   f(5*h \n",
       "- -------- + 5*f(h + x) - 5*f(2*h + x) + ------------- - ------------ + ------\n",
       "     60                                        3              4             5 \n",
       "------------------------------------------------------------------------------\n",
       "                                        h                                     \n",
       "\n",
       "+ x)\n",
       "----\n",
       "    \n",
       "----\n",
       "    "
      ]
     },
     "execution_count": 9,
     "metadata": {},
     "output_type": "execute_result"
    }
   ],
   "source": [
    "Derivative_order_rational_coefficients(SymFunction(\"f\"),x,h,5)"
   ]
  },
  {
   "cell_type": "code",
   "execution_count": 10,
   "metadata": {},
   "outputs": [
    {
     "data": {
      "text/plain": [
       "0.5440211539177653"
      ]
     },
     "execution_count": 10,
     "metadata": {},
     "output_type": "execute_result"
    }
   ],
   "source": [
    "Derivative_order(cos,10.0,0.01,30)"
   ]
  },
  {
   "cell_type": "code",
   "execution_count": 16,
   "metadata": {},
   "outputs": [
    {
     "data": {
      "text/plain": [
       "0.5440211108893698"
      ]
     },
     "execution_count": 16,
     "metadata": {},
     "output_type": "execute_result"
    }
   ],
   "source": [
    "-sin(10.0)"
   ]
  },
  {
   "cell_type": "code",
   "execution_count": 11,
   "metadata": {},
   "outputs": [
    {
     "data": {
      "text/latex": [
       "$$f{\\left (x \\right )} + h \\left. \\frac{d}{d \\xi_{1}} f{\\left (\\xi_{1} \\right )} \\right|_{\\substack{ \\xi_{1}=x }} + \\frac{h^{2}}{2} \\left. \\frac{d^{2}}{d \\xi_{1}^{2}}  f{\\left (\\xi_{1} \\right )} \\right|_{\\substack{ \\xi_{1}=x }} + \\frac{h^{3}}{6} \\left. \\frac{d^{3}}{d \\xi_{1}^{3}}  f{\\left (\\xi_{1} \\right )} \\right|_{\\substack{ \\xi_{1}=x }} + \\mathcal{O}\\left(h^{4}\\right)$$"
      ],
      "text/plain": [
       "                                      /   2           \\|            /   3     \n",
       "                                    2 |  d            ||          3 |  d      \n",
       "                                   h *|------(f(xi_1))||         h *|------(f(\n",
       "                                      |     2         ||            |     3   \n",
       "         /  d           \\|            \\dxi_1          /|xi_1=x      \\dxi_1    \n",
       "f(x) + h*|-----(f(xi_1))||       + --------------------------- + -------------\n",
       "         \\dxi_1         /|xi_1=x                2                             \n",
       "\n",
       "      \\|              \n",
       "      ||              \n",
       "xi_1))||              \n",
       "      ||              \n",
       "      /|xi_1=x    / 4\\\n",
       "-------------- + O\\h /\n",
       "6                     "
      ]
     },
     "execution_count": 11,
     "metadata": {},
     "output_type": "execute_result"
    }
   ],
   "source": [
    "series(f(x+h),h,0,4)"
   ]
  },
  {
   "cell_type": "code",
   "execution_count": 19,
   "metadata": {},
   "outputs": [
    {
     "data": {
      "text/latex": [
       "$$\\frac{1}{h} \\left(- \\frac{761}{280} f{\\left (x \\right )} + 8 f{\\left (h + x \\right )} - 14 f{\\left (2 h + x \\right )} + \\frac{56}{3} f{\\left (3 h + x \\right )} - \\frac{35}{2} f{\\left (4 h + x \\right )} + \\frac{56}{5} f{\\left (5 h + x \\right )} - \\frac{14}{3} f{\\left (6 h + x \\right )} + \\frac{8}{7} f{\\left (7 h + x \\right )} - \\frac{1}{8} f{\\left (8 h + x \\right )}\\right)$$"
      ],
      "text/plain": [
       "  761*f(x)                                56*f(3*h + x)   35*f(4*h + x)   56*f\n",
       "- -------- + 8*f(h + x) - 14*f(2*h + x) + ------------- - ------------- + ----\n",
       "    280                                         3               2             \n",
       "------------------------------------------------------------------------------\n",
       "                                                                 h            \n",
       "\n",
       "(5*h + x)   14*f(6*h + x)   8*f(7*h + x)   f(8*h + x)\n",
       "--------- - ------------- + ------------ - ----------\n",
       "  5               3              7             8     \n",
       "-----------------------------------------------------\n",
       "                                                     "
      ]
     },
     "execution_count": 19,
     "metadata": {},
     "output_type": "execute_result"
    }
   ],
   "source": [
    "aprox=Derivative_order_rational_coefficients(SymFunction(\"f\"),Sym(\"x\"),Sym(\"h\"),8)"
   ]
  },
  {
   "cell_type": "code",
   "execution_count": 20,
   "metadata": {},
   "outputs": [
    {
     "data": {
      "text/latex": [
       "$$\\left. \\frac{d}{d \\xi_{1}} f{\\left (\\xi_{1} \\right )} \\right|_{\\substack{ \\xi_{1}=x }} - \\frac{h^{8}}{9} \\left. \\frac{d^{9}}{d \\xi_{1}^{9}}  f{\\left (\\xi_{1} \\right )} \\right|_{\\substack{ \\xi_{1}=x }} + \\mathcal{O}\\left(h^{9}\\right)$$"
      ],
      "text/plain": [
       "                             /   9           \\|              \n",
       "                           8 |  d            ||              \n",
       "                          h *|------(f(xi_1))||              \n",
       "                             |     9         ||              \n",
       "/  d           \\|            \\dxi_1          /|xi_1=x    / 9\\\n",
       "|-----(f(xi_1))||       - --------------------------- + O\\h /\n",
       "\\dxi_1         /|xi_1=x                9                     "
      ]
     },
     "execution_count": 20,
     "metadata": {},
     "output_type": "execute_result"
    }
   ],
   "source": [
    "series(aprox,h,0,9)"
   ]
  }
 ],
 "metadata": {
  "kernelspec": {
   "display_name": "Julia 0.6.0",
   "language": "julia",
   "name": "julia-0.6"
  },
  "language_info": {
   "file_extension": ".jl",
   "mimetype": "application/julia",
   "name": "julia",
   "version": "0.6.0"
  },
  "latex_envs": {
   "bibliofile": "biblio.bib",
   "cite_by": "apalike",
   "current_citInitial": 1,
   "eqLabelWithNumbers": true,
   "eqNumInitial": 0
  }
 },
 "nbformat": 4,
 "nbformat_minor": 2
}
