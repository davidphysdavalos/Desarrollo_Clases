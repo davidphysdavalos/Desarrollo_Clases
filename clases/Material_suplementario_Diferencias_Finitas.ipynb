{
 "cells": [
  {
   "cell_type": "markdown",
   "metadata": {},
   "source": [
    "# Diferencias finitas"
   ]
  },
  {
   "cell_type": "code",
   "execution_count": 1,
   "metadata": {
    "collapsed": true
   },
   "outputs": [],
   "source": [
    "using SymPy"
   ]
  },
  {
   "cell_type": "code",
   "execution_count": 2,
   "metadata": {},
   "outputs": [],
   "source": [
    "x=Sym(\"x\");\n",
    "h=Sym(\"h\");"
   ]
  },
  {
   "cell_type": "code",
   "execution_count": 3,
   "metadata": {
    "collapsed": true
   },
   "outputs": [],
   "source": [
    "function coeff_Taylor_Log(i)\n",
    "    subs(diff(log(x+1),x,i)/factorial(i),x=>0)\n",
    "end;"
   ]
  },
  {
   "cell_type": "code",
   "execution_count": 4,
   "metadata": {},
   "outputs": [],
   "source": [
    "function finite_difference_forward(f)\n",
    "    return (x,h)->f(x+h,h)-f(x,h)\n",
    "end;"
   ]
  },
  {
   "cell_type": "code",
   "execution_count": 5,
   "metadata": {},
   "outputs": [],
   "source": [
    "function Derivative_order(f,x::Sym,h::Sym,order)\n",
    "    der=SymFunction(\"der\")\n",
    "    der=Sym(\"0\")\n",
    "    term=SymFunction(\"term\")\n",
    "    term(x,h)=f(x)\n",
    "    for i in range(1,order)\n",
    "        term=finite_difference_forward(term)\n",
    "        der=der+coeff_Taylor_Log(i)*term(x,h)\n",
    "    end\n",
    "    der/h\n",
    "end;\n",
    "function Derivative_order(f::Function,X::Float64,H::Float64,order::Int64)\n",
    "    x=Sym(\"x\")\n",
    "    h=Sym(\"h\")\n",
    "    result=Derivative_order(f,x,h,order)\n",
    "    return N(subs(result,x=>X,h=>H))\n",
    "end;"
   ]
  },
  {
   "cell_type": "code",
   "execution_count": 6,
   "metadata": {},
   "outputs": [
    {
     "data": {
      "text/latex": [
       "$$\\frac{1}{60 h} \\left(- 137 f{\\left (x \\right )} + 300 f{\\left (h + x \\right )} - 300 f{\\left (2 h + x \\right )} + 200 f{\\left (3 h + x \\right )} - 75 f{\\left (4 h + x \\right )} + 12 f{\\left (5 h + x \\right )}\\right)$$"
      ],
      "text/plain": [
       "-137⋅f(x) + 300⋅f(h + x) - 300⋅f(2⋅h + x) + 200⋅f(3⋅h + x) - 75⋅f(4⋅h + x) + 1\n",
       "──────────────────────────────────────────────────────────────────────────────\n",
       "                                           60⋅h                               \n",
       "\n",
       "2⋅f(5⋅h + x)\n",
       "────────────\n",
       "            "
      ]
     },
     "execution_count": 6,
     "metadata": {},
     "output_type": "execute_result"
    }
   ],
   "source": [
    "simplify(Derivative_order(SymFunction(\"f\"),Sym(\"x\"),Sym(\"h\"),5))"
   ]
  },
  {
   "cell_type": "code",
   "execution_count": 7,
   "metadata": {},
   "outputs": [
    {
     "data": {
      "text/plain": [
       "0.5440211109203119"
      ]
     },
     "execution_count": 7,
     "metadata": {},
     "output_type": "execute_result"
    }
   ],
   "source": [
    "Derivative_order(cos,10.0,0.01,15)"
   ]
  },
  {
   "cell_type": "code",
   "execution_count": 256,
   "metadata": {},
   "outputs": [
    {
     "data": {
      "text/plain": [
       "0.5440211108893698"
      ]
     },
     "execution_count": 256,
     "metadata": {},
     "output_type": "execute_result"
    }
   ],
   "source": [
    "-sin(10.0)"
   ]
  },
  {
   "cell_type": "code",
   "execution_count": 334,
   "metadata": {},
   "outputs": [
    {
     "data": {
      "text/latex": [
       "$$f{\\left (x \\right )} + h \\left. \\frac{d}{d \\xi_{1}} f{\\left (\\xi_{1} \\right )} \\right|_{\\substack{ \\xi_{1}=x }} + \\frac{h^{2}}{2} \\left. \\frac{d^{2}}{d \\xi_{1}^{2}}  f{\\left (\\xi_{1} \\right )} \\right|_{\\substack{ \\xi_{1}=x }} + \\frac{h^{3}}{6} \\left. \\frac{d^{3}}{d \\xi_{1}^{3}}  f{\\left (\\xi_{1} \\right )} \\right|_{\\substack{ \\xi_{1}=x }} + \\mathcal{O}\\left(h^{4}\\right)$$"
      ],
      "text/plain": [
       "                                ⎛  2        ⎞│          ⎛  3        ⎞│        \n",
       "                              2 ⎜ d         ⎟│        3 ⎜ d         ⎟│        \n",
       "                             h ⋅⎜────(f(ξ₁))⎟│       h ⋅⎜────(f(ξ₁))⎟│        \n",
       "                                ⎜   2       ⎟│          ⎜   3       ⎟│        \n",
       "         ⎛ d        ⎞│          ⎝dξ₁        ⎠│ξ₁=x      ⎝dξ₁        ⎠│ξ₁=x    \n",
       "f(x) + h⋅⎜───(f(ξ₁))⎟│     + ───────────────────── + ───────────────────── + O\n",
       "         ⎝dξ₁       ⎠│ξ₁=x             2                       6              \n",
       "\n",
       "    \n",
       "    \n",
       "    \n",
       "    \n",
       "⎛ 4⎞\n",
       "⎝h ⎠\n",
       "    "
      ]
     },
     "execution_count": 334,
     "metadata": {},
     "output_type": "execute_result"
    }
   ],
   "source": [
    "series(f(x+h),h,0,4)"
   ]
  },
  {
   "cell_type": "code",
   "execution_count": 9,
   "metadata": {},
   "outputs": [
    {
     "data": {
      "text/latex": [
       "$$\\frac{1}{h} \\left(- \\frac{137}{60} f{\\left (x \\right )} + 5 f{\\left (h + x \\right )} - 5 f{\\left (2 h + x \\right )} + \\frac{10}{3} f{\\left (3 h + x \\right )} - \\frac{5}{4} f{\\left (4 h + x \\right )} + \\frac{1}{5} f{\\left (5 h + x \\right )}\\right)$$"
      ],
      "text/plain": [
       "  137⋅f(x)                               10⋅f(3⋅h + x)   5⋅f(4⋅h + x)   f(5⋅h \n",
       "- ──────── + 5⋅f(h + x) - 5⋅f(2⋅h + x) + ───────────── - ──────────── + ──────\n",
       "     60                                        3              4             5 \n",
       "──────────────────────────────────────────────────────────────────────────────\n",
       "                                        h                                     \n",
       "\n",
       "+ x)\n",
       "────\n",
       "    \n",
       "────\n",
       "    "
      ]
     },
     "execution_count": 9,
     "metadata": {},
     "output_type": "execute_result"
    }
   ],
   "source": [
    "aprox=Derivative_order(SymFunction(\"f\"),Sym(\"x\"),Sym(\"h\"),5)"
   ]
  },
  {
   "cell_type": "code",
   "execution_count": 13,
   "metadata": {},
   "outputs": [
    {
     "data": {
      "text/latex": [
       "$$\\left. \\frac{d}{d \\xi_{1}} f{\\left (\\xi_{1} \\right )} \\right|_{\\substack{ \\xi_{1}=x }} + \\mathcal{O}\\left(h^{5}\\right)$$"
      ],
      "text/plain": [
       "⎛ d        ⎞│        ⎛ 5⎞\n",
       "⎜───(f(ξ₁))⎟│     + O⎝h ⎠\n",
       "⎝dξ₁       ⎠│ξ₁=x        "
      ]
     },
     "execution_count": 13,
     "metadata": {},
     "output_type": "execute_result"
    }
   ],
   "source": [
    "series(aprox,h,0,5)"
   ]
  },
  {
   "cell_type": "code",
   "execution_count": null,
   "metadata": {
    "collapsed": true
   },
   "outputs": [],
   "source": []
  }
 ],
 "metadata": {
  "kernelspec": {
   "display_name": "Julia 0.6.0",
   "language": "julia",
   "name": "julia-0.6"
  },
  "language_info": {
   "file_extension": ".jl",
   "mimetype": "application/julia",
   "name": "julia",
   "version": "0.6.0"
  },
  "latex_envs": {
   "bibliofile": "biblio.bib",
   "cite_by": "apalike",
   "current_citInitial": 1,
   "eqLabelWithNumbers": true,
   "eqNumInitial": 0
  }
 },
 "nbformat": 4,
 "nbformat_minor": 2
}
