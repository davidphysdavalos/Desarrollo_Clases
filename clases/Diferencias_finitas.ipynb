{
 "cells": [
  {
   "cell_type": "code",
   "execution_count": 1,
   "metadata": {
    "collapsed": true
   },
   "outputs": [],
   "source": [
    "using SymPy"
   ]
  },
  {
   "cell_type": "code",
   "execution_count": 184,
   "metadata": {},
   "outputs": [],
   "source": [
    "x=Sym(\"x\");"
   ]
  },
  {
   "cell_type": "code",
   "execution_count": 175,
   "metadata": {},
   "outputs": [],
   "source": [
    "function coeff_Taylor_Log(i)\n",
    "    subs(diff(log(x+1),x,i)/factorial(i),x=>0)\n",
    "end;"
   ]
  },
  {
   "cell_type": "code",
   "execution_count": 215,
   "metadata": {},
   "outputs": [],
   "source": [
    "function finite_difference_forward(f)\n",
    "    h=Sym(\"h\")\n",
    "   f(x+h)-f(x) \n",
    "end;"
   ]
  },
  {
   "cell_type": "code",
   "execution_count": 222,
   "metadata": {},
   "outputs": [],
   "source": [
    "function Taylor_order_Delta(f,order)\n",
    "    n=SymFunction(\"n\")\n",
    "    n=Sym(\"0\")\n",
    "    r=SymFunction(\"r\")\n",
    "    r=f\n",
    "    for i in range(1,order)\n",
    "        r=finite_difference_forward(r)\n",
    "        n=n+coeff_Taylor_Log(i)*r\n",
    "    end\n",
    "    n\n",
    "end;"
   ]
  },
  {
   "cell_type": "code",
   "execution_count": 229,
   "metadata": {},
   "outputs": [
    {
     "data": {
      "text/latex": [
       "$$- \\frac{7381}{2520} \\cos{\\left (x \\right )} + 10 \\cos{\\left (h + x \\right )} - \\frac{45}{2} \\cos{\\left (2 h + x \\right )} + 40 \\cos{\\left (3 h + x \\right )} - \\frac{105}{2} \\cos{\\left (4 h + x \\right )} + \\frac{252}{5} \\cos{\\left (5 h + x \\right )} - 35 \\cos{\\left (6 h + x \\right )} + \\frac{120}{7} \\cos{\\left (7 h + x \\right )} - \\frac{45}{8} \\cos{\\left (8 h + x \\right )} + \\frac{10}{9} \\cos{\\left (9 h + x \\right )} - \\frac{1}{10} \\cos{\\left (10 h + x \\right )}$$"
      ],
      "text/plain": [
       "  7381⋅cos(x)                   45⋅cos(2⋅h + x)                     105⋅cos(4⋅\n",
       "- ─────────── + 10⋅cos(h + x) - ─────────────── + 40⋅cos(3⋅h + x) - ──────────\n",
       "      2520                             2                                   2  \n",
       "\n",
       "h + x)   252⋅cos(5⋅h + x)                     120⋅cos(7⋅h + x)   45⋅cos(8⋅h + \n",
       "────── + ──────────────── - 35⋅cos(6⋅h + x) + ──────────────── - ─────────────\n",
       "                5                                    7                  8     \n",
       "\n",
       "x)   10⋅cos(9⋅h + x)   cos(10⋅h + x)\n",
       "── + ─────────────── - ─────────────\n",
       "            9                10     "
      ]
     },
     "execution_count": 229,
     "metadata": {},
     "output_type": "execute_result"
    }
   ],
   "source": [
    "Taylor_order_Delta(cos(x),10)"
   ]
  },
  {
   "cell_type": "code",
   "execution_count": 241,
   "metadata": {},
   "outputs": [
    {
     "data": {
      "text/latex": [
       "$$- \\frac{3}{2} g{\\left (x \\right )} + 2 g{\\left (h + x \\right )} - \\frac{1}{2} g{\\left (2 h + x \\right )}$$"
      ],
      "text/plain": [
       "  3⋅g(x)                g(2⋅h + x)\n",
       "- ────── + 2⋅g(h + x) - ──────────\n",
       "    2                       2     "
      ]
     },
     "execution_count": 241,
     "metadata": {},
     "output_type": "execute_result"
    }
   ],
   "source": [
    "Taylor_order_Delta(SymFunction(\"g\"),2)"
   ]
  },
  {
   "cell_type": "code",
   "execution_count": 239,
   "metadata": {},
   "outputs": [
    {
     "data": {
      "text/latex": [
       "$$0.544021110897134$$"
      ],
      "text/plain": [
       "0.544021110897134"
      ]
     },
     "execution_count": 239,
     "metadata": {},
     "output_type": "execute_result"
    }
   ],
   "source": [
    "subs(Taylor_order_Delta(cos(x),20)/Sym(\"h\"),Sym(\"h\")=>0.2,x=>10.0)"
   ]
  },
  {
   "cell_type": "code",
   "execution_count": 240,
   "metadata": {},
   "outputs": [
    {
     "data": {
      "text/plain": [
       "0.5440211108893698"
      ]
     },
     "execution_count": 240,
     "metadata": {},
     "output_type": "execute_result"
    }
   ],
   "source": [
    "-sin(10.0)"
   ]
  },
  {
   "cell_type": "code",
   "execution_count": null,
   "metadata": {
    "collapsed": true
   },
   "outputs": [],
   "source": []
  }
 ],
 "metadata": {
  "kernelspec": {
   "display_name": "Julia 0.6.0",
   "language": "julia",
   "name": "julia-0.6"
  },
  "language_info": {
   "file_extension": ".jl",
   "mimetype": "application/julia",
   "name": "julia",
   "version": "0.6.0"
  },
  "latex_envs": {
   "bibliofile": "biblio.bib",
   "cite_by": "apalike",
   "current_citInitial": 1,
   "eqLabelWithNumbers": true,
   "eqNumInitial": 0
  }
 },
 "nbformat": 4,
 "nbformat_minor": 2
}
