{
 "cells": [
  {
   "cell_type": "markdown",
   "metadata": {},
   "source": [
    "# Diferencias finitas"
   ]
  },
  {
   "cell_type": "markdown",
   "metadata": {},
   "source": [
    "Para calcular la derivada númerica basta con tomar una diferencia finita en lugar de el límite continuo requerido por la definición:\n",
    "$$f'(x)\\approx \\frac{f(x+\\Delta x)-f(x)}{\\Delta x}$$"
   ]
  },
  {
   "cell_type": "code",
   "execution_count": null,
   "metadata": {
    "collapsed": true
   },
   "outputs": [],
   "source": []
  },
  {
   "cell_type": "code",
   "execution_count": 6,
   "metadata": {
    "collapsed": true
   },
   "outputs": [],
   "source": [
    "using SymPy"
   ]
  },
  {
   "cell_type": "code",
   "execution_count": 7,
   "metadata": {
    "collapsed": false
   },
   "outputs": [],
   "source": [
    "x=Sym(\"x\");"
   ]
  },
  {
   "cell_type": "code",
   "execution_count": 8,
   "metadata": {
    "collapsed": true
   },
   "outputs": [],
   "source": [
    "function coeff_Taylor_Log(i)\n",
    "    subs(diff(log(x+1),x,i)/factorial(i),x=>0)\n",
    "end;"
   ]
  },
  {
   "cell_type": "code",
   "execution_count": 9,
   "metadata": {
    "collapsed": true
   },
   "outputs": [],
   "source": [
    "function finite_difference_forward(f)\n",
    "    h=Sym(\"h\")\n",
    "   f(x+h)-f(x) \n",
    "end;"
   ]
  },
  {
   "cell_type": "code",
   "execution_count": 10,
   "metadata": {
    "collapsed": true
   },
   "outputs": [],
   "source": [
    "function Taylor_order_Delta(f,order)\n",
    "    n=SymFunction(\"n\")\n",
    "    n=Sym(\"0\")\n",
    "    r=SymFunction(\"r\")\n",
    "    r=f\n",
    "    for i in range(1,order)\n",
    "        r=finite_difference_forward(r)\n",
    "        n=n+coeff_Taylor_Log(i)*r\n",
    "    end\n",
    "    n\n",
    "end;"
   ]
  },
  {
   "cell_type": "code",
   "execution_count": 15,
   "metadata": {
    "collapsed": false
   },
   "outputs": [
    {
     "data": {
      "text/latex": [
       "$$- \\cos{\\left (x \\right )} + \\frac{1}{2} \\cos{\\left (2 x \\right )} + \\cos{\\left (h + x \\right )} - \\frac{1}{2} \\cos{\\left (h + 2 x \\right )}$$"
      ],
      "text/plain": [
       "          cos(2⋅x)                cos(h + 2⋅x)\n",
       "-cos(x) + ──────── + cos(h + x) - ────────────\n",
       "             2                         2      "
      ]
     },
     "execution_count": 15,
     "metadata": {},
     "output_type": "execute_result"
    }
   ],
   "source": [
    "Taylor_order_Delta(cos(x),2)"
   ]
  },
  {
   "cell_type": "code",
   "execution_count": 13,
   "metadata": {
    "collapsed": false
   },
   "outputs": [
    {
     "data": {
      "text/latex": [
       "$$- g{\\left (x \\right )} + \\frac{1}{2} g{\\left (2 x \\right )} - \\frac{1}{3} g{\\left (3 x \\right )} + g{\\left (h + x \\right )} - \\frac{1}{2} g{\\left (h + 2 x \\right )} + \\frac{1}{3} g{\\left (h + 3 x \\right )}$$"
      ],
      "text/plain": [
       "        g(2⋅x)   g(3⋅x)              g(h + 2⋅x)   g(h + 3⋅x)\n",
       "-g(x) + ────── - ────── + g(h + x) - ────────── + ──────────\n",
       "          2        3                     2            3     "
      ]
     },
     "execution_count": 13,
     "metadata": {},
     "output_type": "execute_result"
    }
   ],
   "source": [
    "Taylor_order_Delta(SymFunction(\"g\"),3)"
   ]
  },
  {
   "cell_type": "code",
   "execution_count": 15,
   "metadata": {
    "collapsed": false
   },
   "outputs": [
    {
     "data": {
      "text/latex": [
       "$$0.544021110897134$$"
      ],
      "text/plain": [
       "0.544021110897134"
      ]
     },
     "execution_count": 15,
     "metadata": {},
     "output_type": "execute_result"
    }
   ],
   "source": [
    "subs(Taylor_order_Delta(cos(x),20)/Sym(\"h\"),Sym(\"h\")=>0.2,x=>10.0)"
   ]
  },
  {
   "cell_type": "code",
   "execution_count": 12,
   "metadata": {
    "collapsed": false
   },
   "outputs": [
    {
     "data": {
      "text/plain": [
       "0.5440211108893698"
      ]
     },
     "execution_count": 12,
     "metadata": {},
     "output_type": "execute_result"
    }
   ],
   "source": [
    "-sin(10.0)"
   ]
  },
  {
   "cell_type": "code",
   "execution_count": null,
   "metadata": {
    "collapsed": true
   },
   "outputs": [],
   "source": []
  }
 ],
 "metadata": {
  "kernelspec": {
   "display_name": "Julia 0.6.0",
   "language": "julia",
   "name": "julia-0.6"
  },
  "language_info": {
   "file_extension": ".jl",
   "mimetype": "application/julia",
   "name": "julia",
   "version": "0.6.0"
  },
  "latex_envs": {
   "bibliofile": "biblio.bib",
   "cite_by": "apalike",
   "current_citInitial": 1,
   "eqLabelWithNumbers": true,
   "eqNumInitial": 0
  }
 },
 "nbformat": 4,
 "nbformat_minor": 2
}
