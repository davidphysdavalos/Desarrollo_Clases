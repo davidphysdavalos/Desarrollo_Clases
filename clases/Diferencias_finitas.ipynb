{
 "cells": [
  {
   "cell_type": "code",
   "execution_count": 1,
   "metadata": {
    "collapsed": true
   },
   "outputs": [],
   "source": [
    "using SymPy"
   ]
  },
  {
   "cell_type": "code",
   "execution_count": 2,
   "metadata": {
    "collapsed": true
   },
   "outputs": [],
   "source": [
    "x=Sym(\"x\");"
   ]
  },
  {
   "cell_type": "code",
   "execution_count": 3,
   "metadata": {
    "collapsed": true
   },
   "outputs": [],
   "source": [
    "function coeff_Taylor_Log(i)\n",
    "    subs(diff(log(x+1),x,i)/factorial(i),x=>0)\n",
    "end;"
   ]
  },
  {
   "cell_type": "code",
   "execution_count": 4,
   "metadata": {
    "collapsed": true
   },
   "outputs": [],
   "source": [
    "function finite_difference_forward(f)\n",
    "    h=Sym(\"h\")\n",
    "   f(x+h)-f(x) \n",
    "end;"
   ]
  },
  {
   "cell_type": "code",
   "execution_count": 5,
   "metadata": {
    "collapsed": true
   },
   "outputs": [],
   "source": [
    "function Taylor_order_Delta(f,order)\n",
    "    n=SymFunction(\"n\")\n",
    "    n=Sym(\"0\")\n",
    "    r=SymFunction(\"r\")\n",
    "    r=f\n",
    "    for i in range(1,order)\n",
    "        r=finite_difference_forward(r)\n",
    "        n=n+coeff_Taylor_Log(i)*r\n",
    "    end\n",
    "    n\n",
    "end;"
   ]
  },
  {
   "cell_type": "code",
   "execution_count": 7,
   "metadata": {},
   "outputs": [
    {
     "data": {
      "text/latex": [
       "$$- \\cos{\\left (x \\right )} + \\cos{\\left (h + x \\right )}$$"
      ],
      "text/plain": [
       "-cos(x) + cos(h + x)"
      ]
     },
     "execution_count": 7,
     "metadata": {},
     "output_type": "execute_result"
    }
   ],
   "source": [
    "Taylor_order_Delta(cos(x),1)"
   ]
  },
  {
   "cell_type": "code",
   "execution_count": 10,
   "metadata": {},
   "outputs": [
    {
     "data": {
      "text/latex": [
       "$$- \\frac{55835135}{15519504} g{\\left (x \\right )} + 20 g{\\left (h + x \\right )} - 95 g{\\left (2 h + x \\right )} + 380 g{\\left (3 h + x \\right )} - \\frac{4845}{4} g{\\left (4 h + x \\right )} + \\frac{15504}{5} g{\\left (5 h + x \\right )} - 6460 g{\\left (6 h + x \\right )} + \\frac{77520}{7} g{\\left (7 h + x \\right )} - \\frac{62985}{4} g{\\left (8 h + x \\right )} + \\frac{167960}{9} g{\\left (9 h + x \\right )} - \\frac{92378}{5} g{\\left (10 h + x \\right )} + \\frac{167960}{11} g{\\left (11 h + x \\right )} - \\frac{20995}{2} g{\\left (12 h + x \\right )} + \\frac{77520}{13} g{\\left (13 h + x \\right )} - \\frac{19380}{7} g{\\left (14 h + x \\right )} + \\frac{5168}{5} g{\\left (15 h + x \\right )} - \\frac{4845}{16} g{\\left (16 h + x \\right )} + \\frac{1140}{17} g{\\left (17 h + x \\right )} - \\frac{95}{9} g{\\left (18 h + x \\right )} + \\frac{20}{19} g{\\left (19 h + x \\right )} - \\frac{1}{20} g{\\left (20 h + x \\right )}$$"
      ],
      "text/plain": [
       "  55835135⋅g(x)                                                  4845⋅g(4⋅h + \n",
       "- ───────────── + 20⋅g(h + x) - 95⋅g(2⋅h + x) + 380⋅g(3⋅h + x) - ─────────────\n",
       "     15519504                                                           4     \n",
       "\n",
       "x)   15504⋅g(5⋅h + x)                     77520⋅g(7⋅h + x)   62985⋅g(8⋅h + x) \n",
       "── + ──────────────── - 6460⋅g(6⋅h + x) + ──────────────── - ──────────────── \n",
       "            5                                    7                  4         \n",
       "\n",
       "  167960⋅g(9⋅h + x)   92378⋅g(10⋅h + x)   167960⋅g(11⋅h + x)   20995⋅g(12⋅h + \n",
       "+ ───────────────── - ───────────────── + ────────────────── - ───────────────\n",
       "          9                   5                   11                   2      \n",
       "\n",
       "x)   77520⋅g(13⋅h + x)   19380⋅g(14⋅h + x)   5168⋅g(15⋅h + x)   4845⋅g(16⋅h + \n",
       "── + ───────────────── - ───────────────── + ──────────────── - ──────────────\n",
       "             13                  7                  5                  16     \n",
       "\n",
       "x)   1140⋅g(17⋅h + x)   95⋅g(18⋅h + x)   20⋅g(19⋅h + x)   g(20⋅h + x)\n",
       "── + ──────────────── - ────────────── + ────────────── - ───────────\n",
       "            17                9                19              20    "
      ]
     },
     "execution_count": 10,
     "metadata": {},
     "output_type": "execute_result"
    }
   ],
   "source": [
    "Taylor_order_Delta(SymFunction(\"g\"),20)"
   ]
  },
  {
   "cell_type": "code",
   "execution_count": 15,
   "metadata": {},
   "outputs": [
    {
     "data": {
      "text/latex": [
       "$$0.544021110897134$$"
      ],
      "text/plain": [
       "0.544021110897134"
      ]
     },
     "execution_count": 15,
     "metadata": {},
     "output_type": "execute_result"
    }
   ],
   "source": [
    "subs(Taylor_order_Delta(cos(x),20)/Sym(\"h\"),Sym(\"h\")=>0.2,x=>10.0)"
   ]
  },
  {
   "cell_type": "code",
   "execution_count": 12,
   "metadata": {},
   "outputs": [
    {
     "data": {
      "text/plain": [
       "0.5440211108893698"
      ]
     },
     "execution_count": 12,
     "metadata": {},
     "output_type": "execute_result"
    }
   ],
   "source": [
    "-sin(10.0)"
   ]
  },
  {
   "cell_type": "code",
   "execution_count": null,
   "metadata": {
    "collapsed": true
   },
   "outputs": [],
   "source": []
  }
 ],
 "metadata": {
  "kernelspec": {
   "display_name": "Julia 0.6.0",
   "language": "julia",
   "name": "julia-0.6"
  },
  "language_info": {
   "file_extension": ".jl",
   "mimetype": "application/julia",
   "name": "julia",
   "version": "0.6.0"
  },
  "latex_envs": {
   "bibliofile": "biblio.bib",
   "cite_by": "apalike",
   "current_citInitial": 1,
   "eqLabelWithNumbers": true,
   "eqNumInitial": 0
  }
 },
 "nbformat": 4,
 "nbformat_minor": 2
}
