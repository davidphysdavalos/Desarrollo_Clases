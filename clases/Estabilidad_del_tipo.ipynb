{
 "cells": [
  {
   "cell_type": "markdown",
   "metadata": {},
   "source": [
    "# Estabiliad del tipo, ejemplos y benchmarking\n",
    "\n",
    "En esta clase veremos como optimizar Julia y crear rutinas mas rapidas usando estabilidad del tipo\n",
    "\n",
    "## Explicar un poco aqui de lo que sabes"
   ]
  },
  {
   "cell_type": "markdown",
   "metadata": {},
   "source": [
    "## Jerarquía de los tipos en Julia"
   ]
  },
  {
   "cell_type": "code",
   "execution_count": 1,
   "metadata": {
    "collapsed": false
   },
   "outputs": [
    {
     "name": "stdout",
     "output_type": "stream",
     "text": [
      "Number\n",
      "\tComplex{T<:Real}\n",
      "\tReal\n",
      "\t\tAbstractFloat\n",
      "\t\t\tBigFloat\n",
      "\t\t\tFloat16\n",
      "\t\t\tFloat32\n",
      "\t\t\tFloat64\n",
      "\t\tInteger\n",
      "\t\t\tBigInt\n",
      "\t\t\tBool\n",
      "\t\t\tSigned\n",
      "\t\t\t\tInt128\n",
      "\t\t\t\tInt16\n",
      "\t\t\t\tInt32\n",
      "\t\t\t\tInt64\n",
      "\t\t\t\tInt8\n",
      "\t\t\tUnsigned\n",
      "\t\t\t\tUInt128\n",
      "\t\t\t\tUInt16\n",
      "\t\t\t\tUInt32\n",
      "\t\t\t\tUInt64\n",
      "\t\t\t\tUInt8\n",
      "\t\tIrrational{sym}\n",
      "\t\tRational{T<:Integer}\n"
     ]
    },
    {
     "data": {
      "text/plain": [
       "0"
      ]
     },
     "execution_count": 1,
     "metadata": {},
     "output_type": "execute_result"
    }
   ],
   "source": [
    "level = 0\n",
    "function showtypetree(subtype)\n",
    "    global level\n",
    "    subtypelist = filter(asubtype -> asubtype != Any, subtypes(subtype))\n",
    "    if length(subtypelist) > 0 \n",
    "         println(\"\\t\" ^ level, subtype)        \n",
    "         level += 1\n",
    "         map(showtypetree, subtypelist)\n",
    "         level -= 1\n",
    "    else\n",
    "         println(\"\\t\" ^ level, subtype)\n",
    "    end    \n",
    "end\n",
    "showtypetree(Number)"
   ]
  },
  {
   "cell_type": "markdown",
   "metadata": {},
   "source": [
    "## Tips para computo eficiente\n",
    "    Fuente: http://docs.julialang.org/en/release-0.4/manual/performance-tips/\n",
    "\n",
    "* Evitar definir variables constantemente cambiantes como variables globales: Es dificil para el compilador lidiar con variables globales.\n",
    "\n",
    "\n",
    "* Para el uso de constantes en el codigo, es eficiente definirlos como globales.\n",
    "\n",
    "\n",
    "* Uso de funciones: fragmentos de código con tareas bien determinadas deben ir en funciones.\n"
   ]
  },
  {
   "cell_type": "code",
   "execution_count": null,
   "metadata": {
    "collapsed": false
   },
   "outputs": [],
   "source": [
    "# Uso de variables locales\n",
    "function example()\n",
    "    local x\n",
    "    x=1.0;\n",
    "    x\n",
    "end"
   ]
  },
  {
   "cell_type": "code",
   "execution_count": null,
   "metadata": {
    "collapsed": false
   },
   "outputs": [],
   "source": [
    "x # Como es de esperarse, x no esta definida globalmente en el kernel"
   ]
  },
  {
   "cell_type": "code",
   "execution_count": null,
   "metadata": {
    "collapsed": false
   },
   "outputs": [],
   "source": [
    "example()"
   ]
  },
  {
   "cell_type": "markdown",
   "metadata": {},
   "source": [
    "## Ejemplos"
   ]
  },
  {
   "cell_type": "code",
   "execution_count": 6,
   "metadata": {
    "collapsed": false
   },
   "outputs": [
    {
     "name": "stdout",
     "output_type": "stream",
     "text": [
      "elapsed time: 0.111708007 seconds\n"
     ]
    }
   ],
   "source": [
    "function pisum()\n",
    " sum = 0\n",
    " for j = 1:500\n",
    " sum = 0\n",
    " for k = 1:10000\n",
    " sum += 1/(k*k)\n",
    " end\n",
    " end\n",
    " sum\n",
    "end;\n",
    "tic();\n",
    "pisum();\n",
    "toc();"
   ]
  },
  {
   "cell_type": "code",
   "execution_count": null,
   "metadata": {
    "collapsed": false
   },
   "outputs": [],
   "source": [
    "pisum()"
   ]
  },
  {
   "cell_type": "code",
   "execution_count": 3,
   "metadata": {
    "collapsed": false
   },
   "outputs": [
    {
     "name": "stdout",
     "output_type": "stream",
     "text": [
      "elapsed time: 0.02498178 seconds\n"
     ]
    }
   ],
   "source": [
    "function pisum()\n",
    "sum::Float64 = 0.0\n",
    "    for j::Int64 = 1:500\n",
    " sum = 0.0\n",
    "        for k::Float64 = 1:10000\n",
    " sum += 1.0/(k*k)\n",
    " end\n",
    " end\n",
    " sum\n",
    "end;\n",
    "tic();\n",
    "pisum();\n",
    "toc();"
   ]
  },
  {
   "cell_type": "code",
   "execution_count": null,
   "metadata": {
    "collapsed": false
   },
   "outputs": [],
   "source": [
    "pisum()"
   ]
  },
  {
   "cell_type": "markdown",
   "metadata": {},
   "source": [
    "## Benchmark"
   ]
  },
  {
   "cell_type": "markdown",
   "metadata": {},
   "source": [
    "Macro @time"
   ]
  },
  {
   "cell_type": "code",
   "execution_count": null,
   "metadata": {
    "collapsed": false
   },
   "outputs": [],
   "source": [
    "using Benchmark # No entiendo al 100 que rayos hace este paquete"
   ]
  },
  {
   "cell_type": "code",
   "execution_count": null,
   "metadata": {
    "collapsed": false
   },
   "outputs": [],
   "source": [
    "@time sqrt(2)"
   ]
  },
  {
   "cell_type": "code",
   "execution_count": null,
   "metadata": {
    "collapsed": false
   },
   "outputs": [],
   "source": [
    "z=1;typeof(z)"
   ]
  },
  {
   "cell_type": "code",
   "execution_count": null,
   "metadata": {
    "collapsed": false
   },
   "outputs": [],
   "source": [
    "z+1.0"
   ]
  },
  {
   "cell_type": "code",
   "execution_count": null,
   "metadata": {
    "collapsed": false
   },
   "outputs": [],
   "source": [
    "typeof(ans)"
   ]
  },
  {
   "cell_type": "code",
   "execution_count": null,
   "metadata": {
    "collapsed": true
   },
   "outputs": [],
   "source": []
  }
 ],
 "metadata": {
  "kernelspec": {
   "display_name": "Julia 0.5.0",
   "language": "julia",
   "name": "julia-0.5"
  },
  "language_info": {
   "file_extension": ".jl",
   "mimetype": "application/julia",
   "name": "julia",
   "version": "0.5.2"
  },
  "latex_envs": {
   "bibliofile": "biblio.bib",
   "cite_by": "apalike",
   "current_citInitial": 1,
   "eqLabelWithNumbers": true,
   "eqNumInitial": 0
  }
 },
 "nbformat": 4,
 "nbformat_minor": 0
}
