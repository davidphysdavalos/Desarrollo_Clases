{
 "cells": [
  {
   "cell_type": "markdown",
   "metadata": {},
   "source": [
    "# Diferencias finitas"
   ]
  },
  {
   "cell_type": "markdown",
   "metadata": {},
   "source": [
    "La idea detrás de las diferencias finitas es la de aproximar\n",
    "la derivada de una función $f$ en un punto $x_0$. En primer\n",
    "lugar, recordamos la definición de la derivada:\n",
    "$$\n",
    "f'(x)\\vert_{x=x_0} = \\lim_{h\\to0}\\frac{f(x_0+h)-f(x_0)}{h}.\n",
    "$$"
   ]
  },
  {
   "cell_type": "markdown",
   "metadata": {},
   "source": [
    "__Ejercicio 1__. Escribe una función `derivadaIngénua` que\n",
    "reciba: una función $f\\colon \\mathbb{R}\\mapsto\\mathbb{R}$,\n",
    "un punto $x_0\\in\\mathbb{R}$ y un número $h\\in\\mathbb{R}:\n",
    "h\\ll1$. Esta función deberá calcular una aproximación a la\n",
    "derivada utilizando la definición indicada arriba ignorando\n",
    "la parte del límite."
   ]
  },
  {
   "cell_type": "markdown",
   "metadata": {},
   "source": [
    "__Ejercicio 2__. Utiliza tu función `derivadaIngénua` para\n",
    "calcular la derivada de la función $\\cos$ en un punto\n",
    "$x_0\\in[0,1)$. Compara tu resultado con el que indica el\n",
    "cálculo. Utiliza valores de $h$ cada vez más pequeños.\n",
    "Observa el comportamiento de la aproximación y comenta."
   ]
  },
  {
   "cell_type": "markdown",
   "metadata": {},
   "source": [
    "__Ejercicio 3__. Teniendo en mente la definición de la\n",
    "aproximación en serie de Taylor de una función ¿existe\n",
    "alguna forma de mejorar esta definición? Comenta."
   ]
  },
  {
   "cell_type": "markdown",
   "metadata": {},
   "source": [
    "Si tomaste en serio el ejercicio 3 y tuviste la suerte de\n",
    "fijarte en los términos pares de la serie, es seguro que\n",
    "hayas propuesto una definición de la derivada de la forma:\n",
    "\n",
    "$$\n",
    "f'(x)\\vert_{x=x_0} = \\lim_{h\\to0}\\frac{f(x_0+h) - f(x_0-h)}{2h}.\n",
    "$$"
   ]
  },
  {
   "cell_type": "markdown",
   "metadata": {},
   "source": [
    "__Ejercicio 5__. Implementa la definición de la _derivada\n",
    "simétrica_ en la función `derivadaSimétrica` y repite la\n",
    "comparativa que realizaste en el ejercicio 2.\n",
    "\n",
    "Para concluir este estudio de la aproximación del cálculo de\n",
    "las derivadas, se define la _derivada compleja_ de la\n",
    "siguiente forma"
   ]
  },
  {
   "cell_type": "markdown",
   "metadata": {},
   "source": [
    "\n",
    "$$\n",
    "f'(x)\\vert_{x=x_0} = \\lim_{h\\to0}\\frac{f(x_0-ih) - f(x_0)}{h}.\n",
    "$$"
   ]
  },
  {
   "cell_type": "markdown",
   "metadata": {},
   "source": [
    "__Ejercicio 6__. Repite la comparativa de los ejercicio 5 y 2\n",
    "utilizando la  nueva definición.\n",
    "\n",
    "__Ejercicio 7__. Escribre brevemente con cual derivada te\n",
    "quedarías y por qué."
   ]
  },
  {
   "cell_type": "markdown",
   "metadata": {},
   "source": []
  }
 ],
 "metadata": {
  "kernelspec": {
   "display_name": "Julia 0.6.0",
   "language": "julia",
   "name": "julia-0.6"
  },
  "language_info": {
   "file_extension": ".jl",
   "mimetype": "application/julia",
   "name": "julia",
   "version": "0.6.0"
  },
  "latex_envs": {
   "bibliofile": "biblio.bib",
   "cite_by": "apalike",
   "current_citInitial": 1,
   "eqLabelWithNumbers": true,
   "eqNumInitial": 0
  }
 },
 "nbformat": 4,
 "nbformat_minor": 2
}
