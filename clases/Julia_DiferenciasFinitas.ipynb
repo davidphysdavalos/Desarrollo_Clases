{
 "cells": [
  {
   "cell_type": "markdown",
   "metadata": {},
   "source": [
    "# Diferencias finitas"
   ]
  },
  {
   "cell_type": "markdown",
   "metadata": {},
   "source": [
    "La idea detrás de las diferencias finitas es la de aproximar\n",
    "la derivada de una función $f$ en un punto $x_0$. En primer\n",
    "lugar, recordamos la definición de la derivada:\n",
    "$$\n",
    "f'(x) = \\lim_{h\\to0}\\frac{f(x+h)-f(x)}{h}.\n",
    "$$"
   ]
  },
  {
   "cell_type": "markdown",
   "metadata": {},
   "source": [
    "__Ejercicio 1__. Escribe una función `derivadaNumerica` que\n",
    "reciba: una función $f\\colon \\mathbb{R}\\mapsto\\mathbb{R}$,\n",
    "un punto $x_0\\in\\mathbb{R}$ y un número $h\\in\\mathbb{R}:\n",
    "h\\ll1$. Esta función deberá calcular una aproximación a la\n",
    "derivada utilizando la definición indicada arriba ignorando\n",
    "la parte del límite."
   ]
  },
  {
   "cell_type": "markdown",
   "metadata": {},
   "source": [
    "__Ejercicio 2__. Utiliza tu función `derivadaNumerica` para\n",
    "calcular la derivada de la función $\\cos$ en un punto\n",
    "$x_0\\in[0,1)$. Compara tu resultado con el que indica el\n",
    "cálculo. Utiliza valores de $h$ cada vez más pequeños.\n",
    "Observa el comportamiento de la aproximación y comenta."
   ]
  },
  {
   "cell_type": "markdown",
   "metadata": {},
   "source": [
    "Un analisis bastante útil se puede llevar a cabo calculando la serie de potencias en $h$ de la diferencia finita de $f$, es decir $\\Delta f(x,h)=f(x+h)-f(x)$:\n",
    "\n",
    "$$\\Delta f(x,h)=f{\\left (x \\right )} + h \\left. \\frac{d}{d \\xi_{1}} f{\\left (\\xi_{1} \\right )} \\right|_{\\substack{ \\xi_{1}=x }} + \\frac{h^{2}}{2} \\left. \\frac{d^{2}}{d \\xi_{1}^{2}}  f{\\left (\\xi_{1} \\right )} \\right|_{\\substack{ \\xi_{1}=x }} + \\frac{h^{3}}{6} \\left. \\frac{d^{3}}{d \\xi_{1}^{3}}  f{\\left (\\xi_{1} \\right )} \\right|_{\\substack{ \\xi_{1}=x }} + \\mathcal{O}\\left(h^{4}\\right).$$\n",
    "\n",
    "Algo que se debe notar es que podemos reorganizar la ecuación anterior como sigue:\n",
    "$$\\frac{\\Delta f(x,h)}{h}-f'(x)=\\mathcal{O}(h).$$\n",
    "La conclusión que se saca de aqui es que la derivada númerica _hacia adelante_ tiene un error del orden de $h$."
   ]
  },
  {
   "cell_type": "markdown",
   "metadata": {},
   "source": [
    "__Ejercicio 3__. Teniendo en mente la serie de Taylor para $\\Delta f(x,h)$ ¿existe\n",
    "alguna forma de mejorar esta definición? Comenta.\n",
    "\n",
    "__Tip:__ ¿Que pasa con los terminos pares de la serie cuando la calculamos para$\\Delta f(x,-h)$?, ¿Como nos deshacemos de los términos cuadráticos? "
   ]
  },
  {
   "cell_type": "code",
   "execution_count": 1,
   "metadata": {
    "collapsed": true
   },
   "outputs": [],
   "source": [
    "using SymPy"
   ]
  },
  {
   "cell_type": "code",
   "execution_count": 8,
   "metadata": {
    "collapsed": true
   },
   "outputs": [],
   "source": [
    "f=SymFunction(\"f\")\n",
    "x,h=symbols(\"x,h\");"
   ]
  },
  {
   "cell_type": "code",
   "execution_count": null,
   "metadata": {
    "collapsed": true
   },
   "outputs": [],
   "source": []
  },
  {
   "cell_type": "code",
   "execution_count": 31,
   "metadata": {},
   "outputs": [
    {
     "data": {
      "text/latex": [
       "$$f{\\left (x \\right )} + h \\left. \\frac{d}{d \\xi_{1}} f{\\left (\\xi_{1} \\right )} \\right|_{\\substack{ \\xi_{1}=x }} + \\frac{h^{2}}{2} \\left. \\frac{d^{2}}{d \\xi_{1}^{2}}  f{\\left (\\xi_{1} \\right )} \\right|_{\\substack{ \\xi_{1}=x }} + \\frac{h^{3}}{6} \\left. \\frac{d^{3}}{d \\xi_{1}^{3}}  f{\\left (\\xi_{1} \\right )} \\right|_{\\substack{ \\xi_{1}=x }} + \\mathcal{O}\\left(h^{4}\\right)$$"
      ],
      "text/plain": [
       "                                ⎛  2        ⎞│          ⎛  3        ⎞│        \n",
       "                              2 ⎜ d         ⎟│        3 ⎜ d         ⎟│        \n",
       "                             h ⋅⎜────(f(ξ₁))⎟│       h ⋅⎜────(f(ξ₁))⎟│        \n",
       "                                ⎜   2       ⎟│          ⎜   3       ⎟│        \n",
       "         ⎛ d        ⎞│          ⎝dξ₁        ⎠│ξ₁=x      ⎝dξ₁        ⎠│ξ₁=x    \n",
       "f(x) + h⋅⎜───(f(ξ₁))⎟│     + ───────────────────── + ───────────────────── + O\n",
       "         ⎝dξ₁       ⎠│ξ₁=x             2                       6              \n",
       "\n",
       "    \n",
       "    \n",
       "    \n",
       "    \n",
       "⎛ 4⎞\n",
       "⎝h ⎠\n",
       "    "
      ]
     },
     "execution_count": 31,
     "metadata": {},
     "output_type": "execute_result"
    }
   ],
   "source": [
    "series(f(x+h),h,0,4)"
   ]
  },
  {
   "cell_type": "code",
   "execution_count": 32,
   "metadata": {},
   "outputs": [
    {
     "data": {
      "text/latex": [
       "$$2 h \\left. \\frac{d}{d \\xi_{1}} f{\\left (\\xi_{1} \\right )} \\right|_{\\substack{ \\xi_{1}=x }} + \\frac{h^{3}}{3} \\left. \\frac{d^{3}}{d \\xi_{1}^{3}}  f{\\left (\\xi_{1} \\right )} \\right|_{\\substack{ \\xi_{1}=x }} + \\frac{h^{5}}{60} \\left. \\frac{d^{5}}{d \\xi_{1}^{5}}  f{\\left (\\xi_{1} \\right )} \\right|_{\\substack{ \\xi_{1}=x }} + \\mathcal{O}\\left(h^{6}\\right)$$"
      ],
      "text/plain": [
       "                           ⎛  3        ⎞│          ⎛  5        ⎞│            \n",
       "                         3 ⎜ d         ⎟│        5 ⎜ d         ⎟│            \n",
       "                        h ⋅⎜────(f(ξ₁))⎟│       h ⋅⎜────(f(ξ₁))⎟│            \n",
       "                           ⎜   3       ⎟│          ⎜   5       ⎟│            \n",
       "    ⎛ d        ⎞│          ⎝dξ₁        ⎠│ξ₁=x      ⎝dξ₁        ⎠│ξ₁=x    ⎛ 6⎞\n",
       "2⋅h⋅⎜───(f(ξ₁))⎟│     + ───────────────────── + ───────────────────── + O⎝h ⎠\n",
       "    ⎝dξ₁       ⎠│ξ₁=x             3                       60                 "
      ]
     },
     "execution_count": 32,
     "metadata": {},
     "output_type": "execute_result"
    }
   ],
   "source": [
    "series(f(x+h)-f(x-h),h,0,6)"
   ]
  },
  {
   "cell_type": "markdown",
   "metadata": {},
   "source": [
    "## Relación entre la diferencia finita $\\Delta f(x,h)$ y el operador derivada exacto"
   ]
  },
  {
   "cell_type": "markdown",
   "metadata": {},
   "source": [
    "Analizando la serie de la diferencia finita hacia adelante podemos factorizar la función útilizando la propiedad de linealidad del operador derivada, antes pasando del lado izquierdo de la serie a $f(x)$:\n",
    "\n",
    "\\begin{eqnarray}\n",
    "\\Delta f(x,h)-f(x)&=& \\left[h \\left. \\frac{d}{d \\xi}  \\right|_{\\substack{ \\xi=x }} + \\frac{h^{2}}{2} \\left. \\frac{d^{2}}{d \\xi_{1}^{2}}   \\right|_{\\substack{ \\xi_{1}=x }} + \\frac{h^{3}}{6} \\left. \\frac{d^{3}}{d \\xi^{3}}   \\right|_{\\substack{ \\xi=x }} + \\mathcal{O}\\left(h^{4}\\right)\\right]f{\\left (x \\right )}\\\\\n",
    "&=&\\left[ \\sum_{n=1}^{\\infty} \\frac{1}{n!}h^n\\frac{d^n}{d\\xi^n}\\right]f(x)\n",
    "\\end{eqnarray}"
   ]
  },
  {
   "cell_type": "markdown",
   "metadata": {},
   "source": [
    "Si tomaste en serio el ejercicio 3 y tuviste la suerte de\n",
    "fijarte en los términos pares de la serie, es seguro que\n",
    "hayas propuesto una definición de la derivada de la forma:\n",
    "\n",
    "$$\n",
    "f'(x)\\vert_{x=x_0} = \\lim_{h\\to0}\\frac{f(x_0+h) - f(x_0-h)}{2h}.\n",
    "$$"
   ]
  },
  {
   "cell_type": "markdown",
   "metadata": {},
   "source": [
    "__Ejercicio 5__. Implementa la definición de la _derivada\n",
    "simétrica_ en la función `derivadaSimétrica` y repite la\n",
    "comparativa que realizaste en el ejercicio 2.\n",
    "\n",
    "Para concluir este estudio de la aproximación del cálculo de\n",
    "las derivadas, se define la _derivada compleja_ de la\n",
    "siguiente forma"
   ]
  },
  {
   "cell_type": "markdown",
   "metadata": {},
   "source": [
    "\n",
    "$$\n",
    "f'(x)\\vert_{x=x_0} = \\lim_{h\\to0}\\frac{f(x_0-ih) - f(x_0)}{h}.\n",
    "$$"
   ]
  },
  {
   "cell_type": "markdown",
   "metadata": {},
   "source": [
    "__Ejercicio 6__. Repite la comparativa de los ejercicio 5 y 2\n",
    "utilizando la  nueva definición.\n",
    "\n",
    "__Ejercicio 7__. Escribre brevemente con cual derivada te\n",
    "quedarías y por qué."
   ]
  },
  {
   "cell_type": "markdown",
   "metadata": {},
   "source": []
  }
 ],
 "metadata": {
  "kernelspec": {
   "display_name": "Julia 0.6.0",
   "language": "julia",
   "name": "julia-0.6"
  },
  "language_info": {
   "file_extension": ".jl",
   "mimetype": "application/julia",
   "name": "julia",
   "version": "0.6.0"
  },
  "latex_envs": {
   "bibliofile": "biblio.bib",
   "cite_by": "apalike",
   "current_citInitial": 1,
   "eqLabelWithNumbers": true,
   "eqNumInitial": 0
  }
 },
 "nbformat": 4,
 "nbformat_minor": 2
}
