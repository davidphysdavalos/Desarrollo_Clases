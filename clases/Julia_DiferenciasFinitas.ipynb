{
 "cells": [
  {
   "cell_type": "markdown",
   "metadata": {},
   "source": [
    "# Diferencias finitas"
   ]
  },
  {
   "cell_type": "markdown",
   "metadata": {},
   "source": [
    "La idea detrás de las diferencias finitas es la de aproximar\n",
    "la derivada de una función $f$ en un punto $x_0$. En primer\n",
    "lugar, recordamos la definición de la derivada:\n",
    "$$\n",
    "f'(x) = \\lim_{h\\to0}\\frac{f(x+h)-f(x)}{h}.\n",
    "$$"
   ]
  },
  {
   "cell_type": "markdown",
   "metadata": {},
   "source": [
    "__Ejercicio 1__. Escribe una función `derivadaNumerica` que\n",
    "reciba: una función $f\\colon \\mathbb{R}\\mapsto\\mathbb{R}$,\n",
    "un punto $x_0\\in\\mathbb{R}$ y un número $h\\in\\mathbb{R}$. Esta función deberá calcular una aproximación a la\n",
    "derivada utilizando la definición indicada arriba ignorando\n",
    "la parte del límite. Es decir, algo como: `derivada_numerica(f,x,h)`."
   ]
  },
  {
   "cell_type": "markdown",
   "metadata": {},
   "source": [
    "Un analisis bastante útil para saber que tan buena es la derivada numérica, se puede llevar a cabo calculando la serie de potencias en $h$ de la diferencia finita de $f$:\n",
    "\n",
    "$$f(x+h)=f{\\left (x \\right )} + h \\left. \\frac{d}{d \\xi} f{\\left (\\xi \\right )} \\right|_{\\substack{ \\xi=x }} + \\frac{h^{2}}{2} \\left. \\frac{d^{2}}{d \\xi^{2}}  f{\\left (\\xi \\right )} \\right|_{\\substack{ \\xi=x }} + \\frac{h^{3}}{6} \\left. \\frac{d^{3}}{d \\xi^{3}}  f{\\left (\\xi \\right )} \\right|_{\\substack{ \\xi=x }} + \\mathcal{O}\\left(h^{4}\\right).$$\n",
    "\n",
    "Algo que se debe notar es que podemos reorganizar la ecuación anterior como sigue:\n",
    "$$\\frac{\\Delta f(x,h)}{h}-f'(x)=\\mathcal{O}(h),$$ donde $\\Delta f(x,h)=f(x+h)-f(x)$.\n",
    "\n",
    "La conclusión que se saca de aqui es que la derivada numérica _hacia adelante_ tiene un error del orden de $h$."
   ]
  },
  {
   "cell_type": "markdown",
   "metadata": {},
   "source": [
    "__Ejercicio 2__. Utiliza tu función `derivadaNumerica` para\n",
    "calcular la derivada de la función $\\cos$ en un punto\n",
    "$x_0\\in[0,1)$. Compara tu resultado con el que indica el\n",
    "cálculo exacto. Utiliza valores de $h$ cada vez más pequeños, grafica el comportamiento de la derivada y muestra como converge al valor exacto conforme tomamos $h$ cada vez más pequeño. Para ello pueden graficar el resultado de la derivada numérica contra $1/h$.\n",
    "Observa el resultado de la aproximación y comenta. ¿El error es del orden de $h$?"
   ]
  },
  {
   "cell_type": "markdown",
   "metadata": {},
   "source": [
    "__Ejercicio 3__. Teniendo en mente la serie de Taylor para $f(x+h)$ ¿existe\n",
    "alguna forma de mejorar esta definición? Comenta.\n",
    "\n",
    "__Tip:__ ¿Que pasa con los términos pares de la serie cuando la calculamos para $f(x-h)$?, ¿Como podemos despejar la derivada exacta de $f$ combinando ambas series? "
   ]
  },
  {
   "cell_type": "markdown",
   "metadata": {},
   "source": [
    "__Pregunta:__ ¿Hay una forma de construir una derivada numérica aún mas exacta sin tener que hacer $h$ arbitrariamente pequeño?, ¿que opinas?"
   ]
  },
  {
   "cell_type": "markdown",
   "metadata": {},
   "source": [
    "## Relación entre la diferencia finita $\\Delta f(x,h)$ y la derivada exacta"
   ]
  },
  {
   "cell_type": "markdown",
   "metadata": {},
   "source": [
    "Analizando la serie de la diferencia finita hacia adelante podemos factorizar la función útilizando la propiedad de linealidad del operador derivada, antes pasando del lado izquierdo de la serie a $f(x)$:\n",
    "\n",
    "\\begin{eqnarray}\n",
    "\\Delta f(x,h)-f(x)&=& \\left[h \\left. \\frac{d}{d \\xi}  \\right|_{\\substack{ \\xi=x }} + \\frac{h^{2}}{2} \\left. \\frac{d^{2}}{d \\xi_{1}^{2}}   \\right|_{\\substack{ \\xi_{1}=x }} + \\frac{h^{3}}{6} \\left. \\frac{d^{3}}{d \\xi^{3}}   \\right|_{\\substack{ \\xi=x }} + \\mathcal{O}\\left(h^{4}\\right)\\right]f{\\left (x \\right )}\\\\\n",
    "&=&\\left[ \\sum_{n=1}^{\\infty} \\frac{1}{n!}h^n\\left.\\frac{d^n}{d\\xi^n}\\right|_{\\substack{ \\xi=x }} \\right]f(x)\n",
    "\\end{eqnarray}\n",
    "Luego podemos definir el operador $\\Delta_h$, el cual se define como:\n",
    "$$\\Delta_h:f \\mapsto f(x+h)-f(x)=\\Delta f(x,h).$$\n",
    "Es fácil ver entonces que:\n",
    "$$\\Delta_h=\\sum_{n=1}^{\\infty} \\frac{1}{n!}h^n\\left.\\frac{d^n}{d\\xi^n}\\right|_{\\substack{ \\xi=x }}$$"
   ]
  },
  {
   "cell_type": "markdown",
   "metadata": {},
   "source": [
    "__Ejercicio 4:__ Demuestre que $\\Delta_h$ es un operador lineal. "
   ]
  },
  {
   "cell_type": "markdown",
   "metadata": {},
   "source": [
    "__Ejercicio 5:__ Para saber como se relaciona el _operador derivada exacta_ con el _operador diferencia finita hacia adelante_ es necesario invertir la serie $\\Delta_h=\\sum_{n=1}^{\\infty} \\frac{1}{n!}h^n\\left.\\frac{d^n}{d\\xi^n}\\right|_{\\substack{ \\xi=x }}$. Una forma directa de hacerlo es identificar la función para la cual es esa serie. Entonces, pensando en el operador derivada como un número, la serie se identifica como función evaluada en $\\left. h\\frac{d}{d_\\xi}\\right|_{\\substack{ \\xi=x }}$, ¿cual es esa función?. Si llamamos $f$ a dicha función, deberiamos de tener una relación de la siguiente forma:\n",
    "$$\\Delta_h=f\\left(h\\left.\\frac{d}{d\\xi}\\right|_{\\substack{ \\xi=x }}\\right)$$"
   ]
  },
  {
   "cell_type": "markdown",
   "metadata": {},
   "source": [
    "__Ejercicio 6__. Implementa la definición de la _derivada\n",
    "simétrica_ en la función `derivadaSimétrica` y repite la\n",
    "comparativa que realizaste en el ejercicio 2.\n"
   ]
  }
 ],
 "metadata": {
  "kernelspec": {
   "display_name": "Julia 0.6.0",
   "language": "julia",
   "name": "julia-0.6"
  },
  "language_info": {
   "file_extension": ".jl",
   "mimetype": "application/julia",
   "name": "julia",
   "version": "0.6.0"
  },
  "latex_envs": {
   "bibliofile": "biblio.bib",
   "cite_by": "apalike",
   "current_citInitial": 1,
   "eqLabelWithNumbers": true,
   "eqNumInitial": 0
  }
 },
 "nbformat": 4,
 "nbformat_minor": 2
}
