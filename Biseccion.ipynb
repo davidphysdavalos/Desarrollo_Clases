{
 "cells": [
  {
   "cell_type": "markdown",
   "metadata": {
    "collapsed": true
   },
   "source": [
    "# Ejemplo método de bisección\n",
    "\n",
    "Para la función $f(x) = x^3-x-2$"
   ]
  },
  {
   "cell_type": "code",
   "execution_count": 1,
   "metadata": {},
   "outputs": [
    {
     "data": {
      "text/plain": [
       "biseccion (generic function with 1 method)"
      ]
     },
     "execution_count": 1,
     "metadata": {},
     "output_type": "execute_result"
    }
   ],
   "source": [
    "function biseccion(a,b)\n",
    "    p = (a+b)/2\n",
    "    f(x) = x^3-x-2\n",
    "    for i in 1:15\n",
    "        if  f(a)*f(p) > 0\n",
    "            a = p\n",
    "        end\n",
    "        \n",
    "        if f(b)*f(p) > 0\n",
    "            b = p\n",
    "        end\n",
    "        p = (a+b)/2\n",
    "    end\n",
    "    return p,f(p)\n",
    "end"
   ]
  },
  {
   "cell_type": "code",
   "execution_count": 2,
   "metadata": {},
   "outputs": [
    {
     "data": {
      "text/plain": [
       "(1.521392822265625, 7.795631350404619e-5)"
      ]
     },
     "execution_count": 2,
     "metadata": {},
     "output_type": "execute_result"
    }
   ],
   "source": [
    "biseccion(0,2)"
   ]
  }
 ],
 "metadata": {
  "kernelspec": {
   "display_name": "Julia 0.6.0",
   "language": "julia",
   "name": "julia-0.6"
  },
  "language_info": {
   "file_extension": ".jl",
   "mimetype": "application/julia",
   "name": "julia",
   "version": "0.6.0"
  },
  "latex_envs": {
   "bibliofile": "biblio.bib",
   "cite_by": "apalike",
   "current_citInitial": 1,
   "eqLabelWithNumbers": true,
   "eqNumInitial": 0
  }
 },
 "nbformat": 4,
 "nbformat_minor": 2
}
