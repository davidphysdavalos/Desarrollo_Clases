{
 "cells": [
  {
   "cell_type": "markdown",
   "metadata": {},
   "source": [
    "# Métodos para buscar raíces\n",
    "## Método de bisección \n",
    "Para aplicar este método consideremos tres sucesiones $a_n \\le p_n \\le b_n$ definidas por las siguientes relaciones\n",
    "\n",
    "$$ p_n = \\frac{a_n+b_n}{2},\n",
    "\\quad a_{n+1} = \\begin{cases}\n",
    "a_n & \\mbox{si } f(a_n)\\cdot f(p_n) <0 \\\\\n",
    "p_n & \\mbox{si } f(a_n)\\cdot f(p_n) > 0\\end{cases},\n",
    "\\quad b_{n+1} = \\begin{cases}\n",
    "b_n & \\mbox{si } f(b_n)\\cdot f(p_n) < 0 \\\\\n",
    "p_n & \\mbox{si } f(b_n)\\cdot f(p_n) > 0\\end{cases}$$\n",
    "\n",
    "Donde los valores iniciales vienen dados por:\n",
    "\n",
    "$$a_0 := a, \\quad b_0 := b.$$\n",
    "\n",
    "Se puede probrar que las tres sucesiones convergen al valor de la única raíz del intervalo:\n",
    "\n",
    "$$ \\lim_{n \\to \\infty} a_n = \\lim_{n \\to \\infty} p_n = \\lim_{n \\to \\infty} b_n.$$\n",
    "\n",
    "## Método de la secante\n",
    "$$ x_{n+1} = x_n - \\frac{x_n-x_{n-1}}{f(x_n)-f(x_{n-1})} f(x_n).$$\n",
    "\n",
    "Este método necesitará dos aproximaciones iniciales de la raíz para poder inducir una pendiente inicial. Este métodos es más preciso que el de bisección y necesita de menos iteraciones.\n",
    "\n",
    "## Método de Muller \n",
    "El método de Muller usa tres puntos, construyendo una parábola a través de dichos puntos y toma la intersección del eje $x$ con la parábola para ser la siguiente aproximación.\n",
    "\n",
    "$$ x_{n} = x_{n-1} - \\frac{2f(x_{n-1})}{w \\pm \\sqrt{w^2 - 4f(x_{n-1})f[x_{n-1}, x_{n-2}, x_{n-3}]}},$$\n",
    "\n",
    "donde \n",
    "\n",
    "$$ w = f[x_{n-1},x_{n-2}] + f[x_{n-1},x_{n-3}] - f[x_{n-2},x_{n-3}].$$"
   ]
  },
  {
   "cell_type": "code",
   "execution_count": null,
   "metadata": {
    "collapsed": true
   },
   "outputs": [],
   "source": []
  }
 ],
 "metadata": {
  "kernelspec": {
   "display_name": "Julia 0.6.0",
   "language": "julia",
   "name": "julia-0.6"
  },
  "language_info": {
   "file_extension": ".jl",
   "mimetype": "application/julia",
   "name": "julia",
   "version": "0.6.0"
  }
 },
 "nbformat": 4,
 "nbformat_minor": 2
}
