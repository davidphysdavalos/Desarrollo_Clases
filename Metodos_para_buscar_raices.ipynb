{
 "cells": [
  {
   "cell_type": "markdown",
   "metadata": {},
   "source": [
    "# Métodos para buscar raíces\n",
    "## Método de bisección \n",
    "Para aplicar este método consideremos tres sucesiones $a_n \\le p_n \\le b_n$ definidas por las siguientes relaciones\n",
    "\n",
    "$$ p_n = \\frac{a_n+b_n}{2},\n",
    "\\quad a_{n+1} = \\begin{cases}\n",
    "a_n & \\mbox{si } f(a_n)\\cdot f(p_n) <0 \\\\\n",
    "p_n & \\mbox{si } f(a_n)\\cdot f(p_n) > 0\\end{cases},\n",
    "\\quad b_{n+1} = \\begin{cases}\n",
    "b_n & \\mbox{si } f(b_n)\\cdot f(p_n) < 0 \\\\\n",
    "p_n & \\mbox{si } f(b_n)\\cdot f(p_n) > 0\\end{cases}$$\n",
    "\n",
    "Donde los valores iniciales vienen dados por:\n",
    "\n",
    "$$a_0 := a, \\quad b_0 := b.$$\n",
    "\n",
    "Se puede probrar que las tres sucesiones convergen al valor de la única raíz del intervalo:\n",
    "\n",
    "$$ \\lim_{n \\to \\infty} a_n = \\lim_{n \\to \\infty} p_n = \\lim_{n \\to \\infty} b_n.$$\n",
    "\n",
    "## Método de la secante\n",
    "$$ x_{n+1} = x_n - \\frac{x_n-x_{n-1}}{f(x_n)-f(x_{n-1})} f(x_n).$$\n",
    "\n",
    "Este método necesitará dos aproximaciones iniciales de la raíz para poder inducir una pendiente inicial. Este métodos es más preciso que el de bisección y necesita de menos iteraciones.\n",
    "\n",
    "## Método de Müller \n",
    "El método de Muller usa tres puntos, construyendo una parábola a través de dichos puntos y toma la intersección del eje $x$ con la parábola para ser la siguiente aproximación.\n",
    "\n",
    "$$ x_{n} = x_{n-1} - \\frac{2f(x_{n-1})}{w \\pm \\sqrt{w^2 - 4f(x_{n-1})f[x_{n-1}, x_{n-2}, x_{n-3}]}},$$\n",
    "\n",
    "donde \n",
    "\n",
    "$$ w = f[x_{n-1},x_{n-2}] + f[x_{n-1},x_{n-3}] - f[x_{n-2},x_{n-3}].$$"
   ]
  },
  {
   "cell_type": "markdown",
<<<<<<< HEAD
   "metadata": {
    "collapsed": true
   },
   "source": [
    "# Ejemplos"
   ]
  },
  {
   "cell_type": "code",
   "execution_count": 8,
   "metadata": {},
   "outputs": [
    {
     "name": "stderr",
     "output_type": "stream",
     "text": [
      "\u001b[1m\u001b[36mINFO: \u001b[39m\u001b[22m\u001b[36mInstalling PyQt5 via Anaconda's /home/david/anaconda3/bin/conda...\n",
      "\u001b[39m"
     ]
    },
    {
     "name": "stdout",
     "output_type": "stream",
     "text": [
      "Fetching package metadata .........\n",
      "Solving package specifications: .\n",
      "\n",
      "# All requested packages already installed.\n",
      "# packages in environment at /home/david/anaconda3:\n",
      "#\n",
      "pyqt                      4.11.4                   py34_4  \n"
     ]
    }
   ],
   "source": [
    "using PyPlot"
   ]
  },
  {
   "cell_type": "code",
   "execution_count": 94,
   "metadata": {
    "collapsed": true
   },
   "outputs": [],
   "source": [
    "\"\"\"\n",
    "Calcula las raices para el pozo finito con A=10.0\n",
    "\"\"\"\n",
    "function raices_pozo_finito(init::Float64)\n",
    "    list=zeros(Complex64,100);\n",
    "    x=init;\n",
    "    for i in 1:100\n",
    "        f= x*tan(x)-sqrt(complex(10-x^2))+im -im\n",
    "        df=complex(x*sec(x)^2+x/sqrt(complex(10.0-x^2))+tan(x)) # Esto lo hice para evitar errores de dominio\n",
    "        x=x-f/df;\n",
    "        list[i]=x;\n",
    "    end\n",
    "    return list\n",
    "end;"
   ]
  },
  {
   "cell_type": "code",
   "execution_count": 95,
   "metadata": {
    "collapsed": true
   },
   "outputs": [],
   "source": [
    "list1=raices_pozo_finito(0.1);\n",
    "list2=raices_pozo_finito(1.1);\n",
    "list3=raices_pozo_finito(1.5);\n",
    "list4=raices_pozo_finito(3.5);"
   ]
  },
  {
   "cell_type": "code",
   "execution_count": 96,
   "metadata": {},
   "outputs": [
    {
     "data": {
      "image/png": "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",
      "text/plain": [
       "PyPlot.Figure(PyObject <matplotlib.figure.Figure object at 0x7fb90f0790f0>)"
      ]
     },
     "metadata": {},
     "output_type": "display_data"
    },
    {
     "data": {
      "text/plain": [
       "1-element Array{Any,1}:\n",
       " PyObject <matplotlib.lines.Line2D object at 0x7fb90f010588>"
      ]
     },
     "execution_count": 96,
     "metadata": {},
     "output_type": "execute_result"
    }
   ],
   "source": [
    "plot(real(list1))\n",
    "plot(real(list2))\n",
    "plot(real(list3))\n",
    "plot(real(list4))"
   ]
  },
  {
   "cell_type": "code",
   "execution_count": 40,
   "metadata": {
    "collapsed": true
   },
   "outputs": [],
   "source": [
    "list1"
   ]
  },
  {
   "cell_type": "code",
   "execution_count": 23,
   "metadata": {},
   "outputs": [
    {
     "data": {
      "text/plain": [
       "1.1862608f0"
      ]
     },
     "execution_count": 23,
     "metadata": {},
     "output_type": "execute_result"
    }
   ],
   "source": [
    "x=real(last(list))"
   ]
  },
  {
   "cell_type": "code",
   "execution_count": 24,
   "metadata": {},
   "outputs": [
    {
     "data": {
      "text/plain": [
       "0.0f0"
      ]
     },
     "execution_count": 24,
     "metadata": {},
     "output_type": "execute_result"
    }
   ],
   "source": [
    "f= x*tan(x)-sqrt(10-x^2)"
   ]
  },
  {
   "cell_type": "code",
   "execution_count": 25,
   "metadata": {},
   "outputs": [
    {
     "data": {
      "text/plain": [
       "Float32"
      ]
     },
     "execution_count": 25,
     "metadata": {},
     "output_type": "execute_result"
    }
   ],
   "source": [
    "typeof(ans)"
   ]
  },
  {
   "cell_type": "code",
   "execution_count": 26,
   "metadata": {},
   "outputs": [
    {
     "data": {
      "text/plain": [
       "0.3333333333333333"
      ]
     },
     "execution_count": 26,
     "metadata": {},
     "output_type": "execute_result"
    }
   ],
   "source": [
    "1/3"
   ]
  },
  {
   "cell_type": "code",
   "execution_count": null,
=======
>>>>>>> 3ce25a39647305d5ee19ed12050082109bef3958
   "metadata": {
    "collapsed": true
   },
   "source": [
    "# Ejemplo método de bisección\n",
    "\n",
    "Para la función $f(x) = x^3-x-2$"
   ]
  },
  {
   "cell_type": "code",
   "execution_count": null,
   "metadata": {},
   "outputs": [],
   "source": [
    "function biseccion(a,b)\n",
    "    p = (a+b)/2\n",
    "    f(x) = x^3-x-2\n",
    "    for i in 1:15\n",
    "        if  f(a)*f(p) > 0\n",
    "            a = p\n",
    "        end\n",
    "        \n",
    "        if f(b)*f(p) > 0\n",
    "            b = p\n",
    "        end\n",
    "        p = (a+b)/2\n",
    "    end\n",
    "    return p,f(p)\n",
    "end"
   ]
  },
  {
   "cell_type": "code",
   "execution_count": null,
   "metadata": {},
   "outputs": [],
   "source": [
    "biseccion(0,2)"
   ]
  }
 ],
 "metadata": {
  "kernelspec": {
   "display_name": "Julia 0.6.0",
   "language": "julia",
   "name": "julia-0.6"
  },
  "language_info": {
   "file_extension": ".jl",
   "mimetype": "application/julia",
   "name": "julia",
   "version": "0.6.0"
  },
  "latex_envs": {
   "bibliofile": "biblio.bib",
   "cite_by": "apalike",
   "current_citInitial": 1,
   "eqLabelWithNumbers": true,
   "eqNumInitial": 0
  }
 },
 "nbformat": 4,
 "nbformat_minor": 2
}
