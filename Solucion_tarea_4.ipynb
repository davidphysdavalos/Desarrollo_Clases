{
 "cells": [
  {
   "cell_type": "code",
   "execution_count": null,
   "metadata": {
    "collapsed": true
   },
   "outputs": [],
   "source": [
    "using SymPy"
   ]
  },
  {
   "cell_type": "code",
   "execution_count": null,
   "metadata": {},
   "outputs": [],
   "source": [
    "function Newton(f,x0)\n",
    "    x=Sym(\"x\") # Se toma a x como una variable simbolica\n",
    "    df = diff(f(x),x) # Derivada de la funcion\n",
    "    dfJ=lambdify(df,[x]) # Se convierte la derivada como una funcion de Julia\n",
    "    x = x0 # Condicion inicial\n",
    "    list = zeros(50) # Se define una lista donde se guardaran las iteraciones\n",
    "    list[1]=x0 # Primer valor en la lista es la condicion inicial\n",
    "    for i in 2:50 \n",
    "       x = x - f(x)/dfJ(x) # Metodo de Newton\n",
    "       list[i] = x # Se guarda el valor de x en la lista\n",
    "    end\n",
    "    return list\n",
    "end"
   ]
  },
  {
   "cell_type": "code",
   "execution_count": null,
   "metadata": {},
   "outputs": [],
   "source": [
    "x1 = Newton(f,0.1);"
   ]
  },
  {
   "cell_type": "code",
   "execution_count": null,
   "metadata": {},
   "outputs": [],
   "source": [
    "x2 = Newton(f,0.5);"
   ]
  },
  {
   "cell_type": "code",
   "execution_count": null,
   "metadata": {},
   "outputs": [],
   "source": [
    "x3 = Newton(f,-0.3);"
   ]
  },
  {
   "cell_type": "code",
   "execution_count": null,
   "metadata": {
    "collapsed": true
   },
   "outputs": [],
   "source": [
    "x4 = Newton(f,2);"
   ]
  },
  {
   "cell_type": "code",
   "execution_count": null,
   "metadata": {
    "collapsed": true
   },
   "outputs": [],
   "source": [
    "using PyPlot"
   ]
  },
  {
   "cell_type": "code",
   "execution_count": null,
   "metadata": {},
   "outputs": [],
   "source": [
    "x=linspace(-2,2,500);"
   ]
  },
  {
   "cell_type": "code",
   "execution_count": null,
   "metadata": {},
   "outputs": [],
   "source": [
    "y=x.^3-x.^2-x-1;"
   ]
  },
  {
   "cell_type": "code",
   "execution_count": null,
   "metadata": {},
   "outputs": [],
   "source": [
    "grid(true)\n",
    "title(\"\\$ x^3-x^2-x-1 \\$\")\n",
    "plot(x,y);"
   ]
  },
  {
   "cell_type": "code",
   "execution_count": null,
   "metadata": {},
   "outputs": [],
   "source": [
    "fig, ax=subplots()\n",
    "ax[:plot](x1, \"r-\", linewidth=1.5, label=0.1)\n",
    "ax[:plot](x2,\"b-\",linewidth=1.5,label=0.5)\n",
    "ax[:plot](x3,\"g-\",linewidth=1.5,label=-0.3)\n",
    "ax[:plot](x4,\"c-\")\n",
    "ax[:grid](true)\n",
    "ax[:legend](loc=\"upper right\")"
   ]
  },
  {
   "cell_type": "code",
   "execution_count": null,
   "metadata": {},
   "outputs": [],
   "source": [
    "plot(x1,color=\"r\",label=0.1)\n",
    "plot(x2,color=\"b\",label=0.5)\n",
    "plot(x3,color=\"g\",label=-0.3)\n",
    "plot(x4,color=\"c\",label=2.0)\n",
    "grid(true)\n",
    "legend(loc=\"upper right\")\n",
    "show();"
   ]
  },
  {
   "cell_type": "code",
   "execution_count": null,
   "metadata": {
    "collapsed": true
   },
   "outputs": [],
   "source": []
  }
 ],
 "metadata": {
  "kernelspec": {
   "display_name": "Julia 0.6.0",
   "language": "julia",
   "name": "julia-0.6"
  },
  "language_info": {
   "file_extension": ".jl",
   "mimetype": "application/julia",
   "name": "julia",
   "version": "0.6.0"
  }
 },
 "nbformat": 4,
 "nbformat_minor": 2
}
